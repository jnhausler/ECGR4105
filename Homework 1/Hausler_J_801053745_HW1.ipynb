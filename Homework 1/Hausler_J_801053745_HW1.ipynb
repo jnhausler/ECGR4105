{
 "cells": [
  {
   "cell_type": "code",
   "execution_count": 1,
   "id": "f168f929-3b4e-405c-8684-e6c90d131be2",
   "metadata": {},
   "outputs": [],
   "source": [
    "### Jaiden Hausler\n",
    "### 801053745\n",
    "### Homework 1"
   ]
  },
  {
   "cell_type": "code",
   "execution_count": null,
   "id": "4b103b92-6e83-4b28-a164-b15c25b06749",
   "metadata": {},
   "outputs": [],
   "source": [
    "import numpy as np\n",
    "import pandas as pd\n",
    "import matplotlib.pyplot as plt\n",
    "import seaborn as sns"
   ]
  },
  {
   "cell_type": "code",
   "execution_count": 2,
   "id": "b008be3b-e7a4-40f4-b0d8-38b2d88a8de4",
   "metadata": {},
   "outputs": [],
   "source": [
    "def compute_cost(X, y, theta, m):\n",
    "    predictions = X.dot(theta) #gives h in cost function, mx1 array of (theta0 - theta1*x1)\n",
    "    errors = np.subtract(predictions, y) #gives (h(x^i)-y^i)\n",
    "    sqrErrors = np.square(errors) \n",
    "    J = 1 / (2 * m) * np.sum(sqrErrors)\n",
    "    \n",
    "    return J"
   ]
  },
  {
   "cell_type": "code",
   "execution_count": 3,
   "id": "4459d6d7-0ac6-4713-a542-d2ff873635f1",
   "metadata": {},
   "outputs": [],
   "source": [
    "def gradient_descent(X, X_test, y, y_test, theta, alpha, iterations, mTrain, mTest): # thetaj = thetaj - alpha*(1/m sum((h(x^i)-y^i)x^i))\n",
    "    cost_history = np.zeros(iterations)\n",
    "    cost_history_test = np.zeros(iterations)\n",
    "    sum_delta = np.zeros(len(theta))\n",
    "    \n",
    "    for i in range(iterations):\n",
    "        predictions = X.dot(theta) #gives h\n",
    "        loss = np.subtract(predictions, y) #gives (h(x^i)-y^i)\n",
    "        sum_delta = (alpha / mTrain) * X.transpose().dot(loss); #gives sum( (alpha/m)*((h(x^i)-y^i)x^i) ) output is 1x1\n",
    "        theta = theta - sum_delta;\n",
    "        cost_history[i] = compute_cost(X, y, theta, mTrain) #recursion\n",
    "        cost_history_test[i] = compute_cost(X_test, y_test, theta, mTest)\n",
    "        \n",
    "    return theta, cost_history, cost_history_test"
   ]
  },
  {
   "cell_type": "code",
   "execution_count": 4,
   "id": "93f9543a-354a-4b45-a06b-a40b447705c8",
   "metadata": {},
   "outputs": [],
   "source": [
    "def gradient_descent_penalty(X, X_test, y, y_test, theta, alpha, iterations, mTrain, mTest, lamda): # thetaj = thetaj - alpha*(1/m sum((h(x^i)-y^i)x^i))\n",
    "    cost_history = np.zeros(iterations)\n",
    "    cost_history_test = np.zeros(iterations)\n",
    "    sum_delta = np.zeros(theta.size)\n",
    "    \n",
    "    for i in range(iterations):\n",
    "        predictions = X.dot(theta) #gives h\n",
    "        loss = np.subtract(predictions, y) #gives (h(x^i)-y^i)\n",
    "        for j in range(theta.size):\n",
    "            sum_delta = (alpha / mTrain) * X.transpose().dot(loss); #gives sum( (alpha/m)*((h(x^i)-y^i)x^i) ) output is 1x1\n",
    "            if j == 0:\n",
    "                theta[j] = theta[j] - sum_delta[j];\n",
    "            else:\n",
    "                theta[j] = theta[j]*(1 - lamda* (alpha/mTrain)) - sum_delta[j];\n",
    "        \n",
    "        \n",
    "        cost_history[i] = compute_cost(X, y, theta, mTrain) #recursion\n",
    "        cost_history_test[i] = compute_cost(X_test, y_test, theta, mTest)\n",
    "        \n",
    "    return theta, cost_history, cost_history_test"
   ]
  },
  {
   "cell_type": "code",
   "execution_count": 5,
   "id": "c0a2797f-1fce-4771-bdf4-9662985233dc",
   "metadata": {},
   "outputs": [
    {
     "data": {
      "text/html": [
       "<div>\n",
       "<style scoped>\n",
       "    .dataframe tbody tr th:only-of-type {\n",
       "        vertical-align: middle;\n",
       "    }\n",
       "\n",
       "    .dataframe tbody tr th {\n",
       "        vertical-align: top;\n",
       "    }\n",
       "\n",
       "    .dataframe thead th {\n",
       "        text-align: right;\n",
       "    }\n",
       "</style>\n",
       "<table border=\"1\" class=\"dataframe\">\n",
       "  <thead>\n",
       "    <tr style=\"text-align: right;\">\n",
       "      <th></th>\n",
       "      <th>price</th>\n",
       "      <th>area</th>\n",
       "      <th>bedrooms</th>\n",
       "      <th>bathrooms</th>\n",
       "      <th>stories</th>\n",
       "      <th>mainroad</th>\n",
       "      <th>guestroom</th>\n",
       "      <th>basement</th>\n",
       "      <th>hotwaterheating</th>\n",
       "      <th>airconditioning</th>\n",
       "      <th>parking</th>\n",
       "      <th>prefarea</th>\n",
       "      <th>furnishingstatus</th>\n",
       "    </tr>\n",
       "  </thead>\n",
       "  <tbody>\n",
       "    <tr>\n",
       "      <th>0</th>\n",
       "      <td>13300000</td>\n",
       "      <td>7420</td>\n",
       "      <td>4</td>\n",
       "      <td>2</td>\n",
       "      <td>3</td>\n",
       "      <td>yes</td>\n",
       "      <td>no</td>\n",
       "      <td>no</td>\n",
       "      <td>no</td>\n",
       "      <td>yes</td>\n",
       "      <td>2</td>\n",
       "      <td>yes</td>\n",
       "      <td>furnished</td>\n",
       "    </tr>\n",
       "    <tr>\n",
       "      <th>1</th>\n",
       "      <td>12250000</td>\n",
       "      <td>8960</td>\n",
       "      <td>4</td>\n",
       "      <td>4</td>\n",
       "      <td>4</td>\n",
       "      <td>yes</td>\n",
       "      <td>no</td>\n",
       "      <td>no</td>\n",
       "      <td>no</td>\n",
       "      <td>yes</td>\n",
       "      <td>3</td>\n",
       "      <td>no</td>\n",
       "      <td>furnished</td>\n",
       "    </tr>\n",
       "    <tr>\n",
       "      <th>2</th>\n",
       "      <td>12250000</td>\n",
       "      <td>9960</td>\n",
       "      <td>3</td>\n",
       "      <td>2</td>\n",
       "      <td>2</td>\n",
       "      <td>yes</td>\n",
       "      <td>no</td>\n",
       "      <td>yes</td>\n",
       "      <td>no</td>\n",
       "      <td>no</td>\n",
       "      <td>2</td>\n",
       "      <td>yes</td>\n",
       "      <td>semi-furnished</td>\n",
       "    </tr>\n",
       "    <tr>\n",
       "      <th>3</th>\n",
       "      <td>12215000</td>\n",
       "      <td>7500</td>\n",
       "      <td>4</td>\n",
       "      <td>2</td>\n",
       "      <td>2</td>\n",
       "      <td>yes</td>\n",
       "      <td>no</td>\n",
       "      <td>yes</td>\n",
       "      <td>no</td>\n",
       "      <td>yes</td>\n",
       "      <td>3</td>\n",
       "      <td>yes</td>\n",
       "      <td>furnished</td>\n",
       "    </tr>\n",
       "    <tr>\n",
       "      <th>4</th>\n",
       "      <td>11410000</td>\n",
       "      <td>7420</td>\n",
       "      <td>4</td>\n",
       "      <td>1</td>\n",
       "      <td>2</td>\n",
       "      <td>yes</td>\n",
       "      <td>yes</td>\n",
       "      <td>yes</td>\n",
       "      <td>no</td>\n",
       "      <td>yes</td>\n",
       "      <td>2</td>\n",
       "      <td>no</td>\n",
       "      <td>furnished</td>\n",
       "    </tr>\n",
       "  </tbody>\n",
       "</table>\n",
       "</div>"
      ],
      "text/plain": [
       "      price  area  bedrooms  bathrooms  stories mainroad guestroom basement  \\\n",
       "0  13300000  7420         4          2        3      yes        no       no   \n",
       "1  12250000  8960         4          4        4      yes        no       no   \n",
       "2  12250000  9960         3          2        2      yes        no      yes   \n",
       "3  12215000  7500         4          2        2      yes        no      yes   \n",
       "4  11410000  7420         4          1        2      yes       yes      yes   \n",
       "\n",
       "  hotwaterheating airconditioning  parking prefarea furnishingstatus  \n",
       "0              no             yes        2      yes        furnished  \n",
       "1              no             yes        3       no        furnished  \n",
       "2              no              no        2      yes   semi-furnished  \n",
       "3              no             yes        3      yes        furnished  \n",
       "4              no             yes        2       no        furnished  "
      ]
     },
     "execution_count": 5,
     "metadata": {},
     "output_type": "execute_result"
    }
   ],
   "source": [
    "housing = pd.DataFrame(pd.read_csv(\"Housing.csv\"))\n",
    "housing.head()"
   ]
  },
  {
   "cell_type": "code",
   "execution_count": 6,
   "id": "0ff673a5-385d-44ae-b738-1be38b3eb8d3",
   "metadata": {},
   "outputs": [
    {
     "data": {
      "text/html": [
       "<div>\n",
       "<style scoped>\n",
       "    .dataframe tbody tr th:only-of-type {\n",
       "        vertical-align: middle;\n",
       "    }\n",
       "\n",
       "    .dataframe tbody tr th {\n",
       "        vertical-align: top;\n",
       "    }\n",
       "\n",
       "    .dataframe thead th {\n",
       "        text-align: right;\n",
       "    }\n",
       "</style>\n",
       "<table border=\"1\" class=\"dataframe\">\n",
       "  <thead>\n",
       "    <tr style=\"text-align: right;\">\n",
       "      <th></th>\n",
       "      <th>price</th>\n",
       "      <th>area</th>\n",
       "      <th>bedrooms</th>\n",
       "      <th>bathrooms</th>\n",
       "      <th>stories</th>\n",
       "      <th>mainroad</th>\n",
       "      <th>guestroom</th>\n",
       "      <th>basement</th>\n",
       "      <th>hotwaterheating</th>\n",
       "      <th>airconditioning</th>\n",
       "      <th>parking</th>\n",
       "      <th>prefarea</th>\n",
       "      <th>furnishingstatus</th>\n",
       "    </tr>\n",
       "  </thead>\n",
       "  <tbody>\n",
       "    <tr>\n",
       "      <th>0</th>\n",
       "      <td>13300000</td>\n",
       "      <td>7420</td>\n",
       "      <td>4</td>\n",
       "      <td>2</td>\n",
       "      <td>3</td>\n",
       "      <td>1</td>\n",
       "      <td>0</td>\n",
       "      <td>0</td>\n",
       "      <td>0</td>\n",
       "      <td>1</td>\n",
       "      <td>2</td>\n",
       "      <td>1</td>\n",
       "      <td>furnished</td>\n",
       "    </tr>\n",
       "    <tr>\n",
       "      <th>1</th>\n",
       "      <td>12250000</td>\n",
       "      <td>8960</td>\n",
       "      <td>4</td>\n",
       "      <td>4</td>\n",
       "      <td>4</td>\n",
       "      <td>1</td>\n",
       "      <td>0</td>\n",
       "      <td>0</td>\n",
       "      <td>0</td>\n",
       "      <td>1</td>\n",
       "      <td>3</td>\n",
       "      <td>0</td>\n",
       "      <td>furnished</td>\n",
       "    </tr>\n",
       "    <tr>\n",
       "      <th>2</th>\n",
       "      <td>12250000</td>\n",
       "      <td>9960</td>\n",
       "      <td>3</td>\n",
       "      <td>2</td>\n",
       "      <td>2</td>\n",
       "      <td>1</td>\n",
       "      <td>0</td>\n",
       "      <td>1</td>\n",
       "      <td>0</td>\n",
       "      <td>0</td>\n",
       "      <td>2</td>\n",
       "      <td>1</td>\n",
       "      <td>semi-furnished</td>\n",
       "    </tr>\n",
       "    <tr>\n",
       "      <th>3</th>\n",
       "      <td>12215000</td>\n",
       "      <td>7500</td>\n",
       "      <td>4</td>\n",
       "      <td>2</td>\n",
       "      <td>2</td>\n",
       "      <td>1</td>\n",
       "      <td>0</td>\n",
       "      <td>1</td>\n",
       "      <td>0</td>\n",
       "      <td>1</td>\n",
       "      <td>3</td>\n",
       "      <td>1</td>\n",
       "      <td>furnished</td>\n",
       "    </tr>\n",
       "    <tr>\n",
       "      <th>4</th>\n",
       "      <td>11410000</td>\n",
       "      <td>7420</td>\n",
       "      <td>4</td>\n",
       "      <td>1</td>\n",
       "      <td>2</td>\n",
       "      <td>1</td>\n",
       "      <td>1</td>\n",
       "      <td>1</td>\n",
       "      <td>0</td>\n",
       "      <td>1</td>\n",
       "      <td>2</td>\n",
       "      <td>0</td>\n",
       "      <td>furnished</td>\n",
       "    </tr>\n",
       "  </tbody>\n",
       "</table>\n",
       "</div>"
      ],
      "text/plain": [
       "      price  area  bedrooms  bathrooms  stories  mainroad  guestroom  \\\n",
       "0  13300000  7420         4          2        3         1          0   \n",
       "1  12250000  8960         4          4        4         1          0   \n",
       "2  12250000  9960         3          2        2         1          0   \n",
       "3  12215000  7500         4          2        2         1          0   \n",
       "4  11410000  7420         4          1        2         1          1   \n",
       "\n",
       "   basement  hotwaterheating  airconditioning  parking  prefarea  \\\n",
       "0         0                0                1        2         1   \n",
       "1         0                0                1        3         0   \n",
       "2         1                0                0        2         1   \n",
       "3         1                0                1        3         1   \n",
       "4         1                0                1        2         0   \n",
       "\n",
       "  furnishingstatus  \n",
       "0        furnished  \n",
       "1        furnished  \n",
       "2   semi-furnished  \n",
       "3        furnished  \n",
       "4        furnished  "
      ]
     },
     "execution_count": 6,
     "metadata": {},
     "output_type": "execute_result"
    }
   ],
   "source": [
    "varlist = ['mainroad', 'guestroom', 'basement', 'hotwaterheating',\n",
    "           'airconditioning', 'prefarea']\n",
    "\n",
    "def binary_map(x):\n",
    "    return x.map({'yes': 1, 'no': 0})\n",
    "\n",
    "housing[varlist] = housing[varlist].apply(binary_map)\n",
    "\n",
    "housing.head()"
   ]
  },
  {
   "cell_type": "code",
   "execution_count": 7,
   "id": "cd009ba0-8379-42ea-9393-db90a8f2e89f",
   "metadata": {},
   "outputs": [
    {
     "data": {
      "text/plain": [
       "(381, 13)"
      ]
     },
     "execution_count": 7,
     "metadata": {},
     "output_type": "execute_result"
    }
   ],
   "source": [
    "from sklearn.model_selection import train_test_split\n",
    "\n",
    "np.random.seed(0)\n",
    "df_train, df_test = train_test_split(housing, train_size = 0.7, test_size = 0.3, random_state = 42)\n",
    "df_train.shape"
   ]
  },
  {
   "cell_type": "code",
   "execution_count": 8,
   "id": "0bd09251-9632-437e-b2b8-39d408d6067d",
   "metadata": {},
   "outputs": [],
   "source": [
    "###### Problem 1a ####"
   ]
  },
  {
   "cell_type": "code",
   "execution_count": 9,
   "id": "23c846cd-02dd-4ca0-b55b-d0f6bd0f8228",
   "metadata": {},
   "outputs": [
    {
     "data": {
      "text/html": [
       "<div>\n",
       "<style scoped>\n",
       "    .dataframe tbody tr th:only-of-type {\n",
       "        vertical-align: middle;\n",
       "    }\n",
       "\n",
       "    .dataframe tbody tr th {\n",
       "        vertical-align: top;\n",
       "    }\n",
       "\n",
       "    .dataframe thead th {\n",
       "        text-align: right;\n",
       "    }\n",
       "</style>\n",
       "<table border=\"1\" class=\"dataframe\">\n",
       "  <thead>\n",
       "    <tr style=\"text-align: right;\">\n",
       "      <th></th>\n",
       "      <th>area</th>\n",
       "      <th>bedrooms</th>\n",
       "      <th>bathrooms</th>\n",
       "      <th>stories</th>\n",
       "      <th>parking</th>\n",
       "      <th>price</th>\n",
       "    </tr>\n",
       "  </thead>\n",
       "  <tbody>\n",
       "    <tr>\n",
       "      <th>126</th>\n",
       "      <td>7160</td>\n",
       "      <td>3</td>\n",
       "      <td>1</td>\n",
       "      <td>1</td>\n",
       "      <td>2</td>\n",
       "      <td>5880000</td>\n",
       "    </tr>\n",
       "    <tr>\n",
       "      <th>363</th>\n",
       "      <td>3584</td>\n",
       "      <td>2</td>\n",
       "      <td>1</td>\n",
       "      <td>1</td>\n",
       "      <td>0</td>\n",
       "      <td>3710000</td>\n",
       "    </tr>\n",
       "    <tr>\n",
       "      <th>370</th>\n",
       "      <td>4280</td>\n",
       "      <td>2</td>\n",
       "      <td>1</td>\n",
       "      <td>1</td>\n",
       "      <td>2</td>\n",
       "      <td>3640000</td>\n",
       "    </tr>\n",
       "    <tr>\n",
       "      <th>31</th>\n",
       "      <td>7000</td>\n",
       "      <td>3</td>\n",
       "      <td>1</td>\n",
       "      <td>4</td>\n",
       "      <td>2</td>\n",
       "      <td>8400000</td>\n",
       "    </tr>\n",
       "    <tr>\n",
       "      <th>113</th>\n",
       "      <td>9620</td>\n",
       "      <td>3</td>\n",
       "      <td>1</td>\n",
       "      <td>1</td>\n",
       "      <td>2</td>\n",
       "      <td>6083000</td>\n",
       "    </tr>\n",
       "  </tbody>\n",
       "</table>\n",
       "</div>"
      ],
      "text/plain": [
       "     area  bedrooms  bathrooms  stories  parking    price\n",
       "126  7160         3          1        1        2  5880000\n",
       "363  3584         2          1        1        0  3710000\n",
       "370  4280         2          1        1        2  3640000\n",
       "31   7000         3          1        4        2  8400000\n",
       "113  9620         3          1        1        2  6083000"
      ]
     },
     "execution_count": 9,
     "metadata": {},
     "output_type": "execute_result"
    }
   ],
   "source": [
    "num_vars = ['area', 'bedrooms', 'bathrooms', 'stories', 'parking', 'price']\n",
    "df_Newtrain = df_train[num_vars]\n",
    "df_Newtest = df_test[num_vars]\n",
    "df_Newtrain.head()\n"
   ]
  },
  {
   "cell_type": "code",
   "execution_count": 10,
   "id": "4df208ff-895e-4208-8cc5-aca39c017175",
   "metadata": {},
   "outputs": [],
   "source": [
    "#Train Values 1a\n",
    "y = df_Newtrain.values[:, 5] # get output values\n",
    "m = len(y)\n",
    "x1_train = df_Newtrain.values[:, 0].reshape(m, 1) # get input values from first column\n",
    "x2_train = df_Newtrain.values[:, 1].reshape(m, 1) # get input values from second column\n",
    "x3_train = df_Newtrain.values[:, 2].reshape(m, 1) # get input values from third column\n",
    "x4_train = df_Newtrain.values[:, 3].reshape(m, 1) # get input values from fourth column\n",
    "x5_train = df_Newtrain.values[:, 4].reshape(m, 1) # get input values from fifth column\n",
    "\n",
    "X_0 = np.ones((m, 1))\n",
    "X_1 = np.hstack((X_0, x1_train, x2_train, x3_train, x4_train, x5_train))\n",
    "\n",
    "#Validation 1a\n",
    "ytest = df_Newtest.values[:, 5] # get output values\n",
    "mtest = len(ytest)\n",
    "x1_test = df_Newtest.values[:, 0].reshape(mtest, 1) # get input values from first column\n",
    "x2_test = df_Newtest.values[:, 1].reshape(mtest, 1) # get input values from second column\n",
    "x3_test = df_Newtest.values[:, 2].reshape(mtest, 1) # get input values from third column\n",
    "x4_test = df_Newtest.values[:, 3].reshape(mtest, 1) # get input values from fourth column\n",
    "x5_test = df_Newtest.values[:, 4].reshape(mtest, 1) # get input values from fifth column\n",
    "\n",
    "X_0Test = np.ones((mtest, 1))\n",
    "X_1Test = np.hstack((X_0Test, x1_test, x2_test, x3_test, x4_test, x5_test))"
   ]
  },
  {
   "cell_type": "code",
   "execution_count": 11,
   "id": "15e97217-4860-427d-a7c0-9e1a581148bf",
   "metadata": {},
   "outputs": [
    {
     "name": "stdout",
     "output_type": "stream",
     "text": [
      "Final value of theta = [5.15890168e-01 8.55611925e+02 1.82808174e+00 9.31186293e-01\n",
      " 1.42228342e+00 4.22300391e-01]\n"
     ]
    }
   ],
   "source": [
    "theta = [0., 0., 0., 0., 0., 0.]\n",
    "iterations=100;\n",
    "alpha=0.00000001;\n",
    "\n",
    "theta,cost_history, cost_history_test=gradient_descent(\n",
    "    X_1, X_1Test, y, ytest, theta, alpha, iterations, m, mtest)\n",
    "print('Final value of theta =',theta)"
   ]
  },
  {
   "cell_type": "code",
   "execution_count": 12,
   "id": "00f21dda-a0a5-4891-a7ac-77dce39bc673",
   "metadata": {},
   "outputs": [
    {
     "data": {
      "image/png": "[encoded data removed]",
      "text/plain": [
       "<Figure size 432x288 with 1 Axes>"
      ]
     },
     "metadata": {
      "needs_background": "light"
     },
     "output_type": "display_data"
    }
   ],
   "source": [
    "plt.figure(1)\n",
    "plt.plot(range(1, iterations + 1), cost_history, label = 'Training')\n",
    "plt.plot(range(1, iterations + 1), cost_history_test, label = 'Validation')\n",
    "plt.grid()\n",
    "plt.legend()\n",
    "plt.xlabel('Iterations')\n",
    "plt.ylabel('Loss')\n",
    "plt.title('Gradient Descent 1a')\n",
    "plt.rcParams[\"figure.figsize\"]=(10,6)"
   ]
  },
  {
   "cell_type": "code",
   "execution_count": 13,
   "id": "10fa411e-ff54-4071-9a66-e471ceff1f06",
   "metadata": {},
   "outputs": [],
   "source": [
    "###############Problem 1b#################3"
   ]
  },
  {
   "cell_type": "code",
   "execution_count": 14,
   "id": "3ae14455-1db6-4af2-8707-49579cce5bcf",
   "metadata": {},
   "outputs": [
    {
     "data": {
      "text/html": [
       "<div>\n",
       "<style scoped>\n",
       "    .dataframe tbody tr th:only-of-type {\n",
       "        vertical-align: middle;\n",
       "    }\n",
       "\n",
       "    .dataframe tbody tr th {\n",
       "        vertical-align: top;\n",
       "    }\n",
       "\n",
       "    .dataframe thead th {\n",
       "        text-align: right;\n",
       "    }\n",
       "</style>\n",
       "<table border=\"1\" class=\"dataframe\">\n",
       "  <thead>\n",
       "    <tr style=\"text-align: right;\">\n",
       "      <th></th>\n",
       "      <th>area</th>\n",
       "      <th>bedrooms</th>\n",
       "      <th>bathrooms</th>\n",
       "      <th>stories</th>\n",
       "      <th>parking</th>\n",
       "      <th>mainroad</th>\n",
       "      <th>guestroom</th>\n",
       "      <th>basement</th>\n",
       "      <th>hotwaterheating</th>\n",
       "      <th>airconditioning</th>\n",
       "      <th>parking</th>\n",
       "      <th>prefarea</th>\n",
       "      <th>price</th>\n",
       "    </tr>\n",
       "  </thead>\n",
       "  <tbody>\n",
       "    <tr>\n",
       "      <th>126</th>\n",
       "      <td>7160</td>\n",
       "      <td>3</td>\n",
       "      <td>1</td>\n",
       "      <td>1</td>\n",
       "      <td>2</td>\n",
       "      <td>1</td>\n",
       "      <td>0</td>\n",
       "      <td>1</td>\n",
       "      <td>0</td>\n",
       "      <td>0</td>\n",
       "      <td>2</td>\n",
       "      <td>1</td>\n",
       "      <td>5880000</td>\n",
       "    </tr>\n",
       "    <tr>\n",
       "      <th>363</th>\n",
       "      <td>3584</td>\n",
       "      <td>2</td>\n",
       "      <td>1</td>\n",
       "      <td>1</td>\n",
       "      <td>0</td>\n",
       "      <td>1</td>\n",
       "      <td>0</td>\n",
       "      <td>0</td>\n",
       "      <td>1</td>\n",
       "      <td>0</td>\n",
       "      <td>0</td>\n",
       "      <td>0</td>\n",
       "      <td>3710000</td>\n",
       "    </tr>\n",
       "    <tr>\n",
       "      <th>370</th>\n",
       "      <td>4280</td>\n",
       "      <td>2</td>\n",
       "      <td>1</td>\n",
       "      <td>1</td>\n",
       "      <td>2</td>\n",
       "      <td>1</td>\n",
       "      <td>0</td>\n",
       "      <td>0</td>\n",
       "      <td>0</td>\n",
       "      <td>1</td>\n",
       "      <td>2</td>\n",
       "      <td>0</td>\n",
       "      <td>3640000</td>\n",
       "    </tr>\n",
       "    <tr>\n",
       "      <th>31</th>\n",
       "      <td>7000</td>\n",
       "      <td>3</td>\n",
       "      <td>1</td>\n",
       "      <td>4</td>\n",
       "      <td>2</td>\n",
       "      <td>1</td>\n",
       "      <td>0</td>\n",
       "      <td>0</td>\n",
       "      <td>0</td>\n",
       "      <td>1</td>\n",
       "      <td>2</td>\n",
       "      <td>0</td>\n",
       "      <td>8400000</td>\n",
       "    </tr>\n",
       "    <tr>\n",
       "      <th>113</th>\n",
       "      <td>9620</td>\n",
       "      <td>3</td>\n",
       "      <td>1</td>\n",
       "      <td>1</td>\n",
       "      <td>2</td>\n",
       "      <td>1</td>\n",
       "      <td>0</td>\n",
       "      <td>1</td>\n",
       "      <td>0</td>\n",
       "      <td>0</td>\n",
       "      <td>2</td>\n",
       "      <td>1</td>\n",
       "      <td>6083000</td>\n",
       "    </tr>\n",
       "  </tbody>\n",
       "</table>\n",
       "</div>"
      ],
      "text/plain": [
       "     area  bedrooms  bathrooms  stories  parking  mainroad  guestroom  \\\n",
       "126  7160         3          1        1        2         1          0   \n",
       "363  3584         2          1        1        0         1          0   \n",
       "370  4280         2          1        1        2         1          0   \n",
       "31   7000         3          1        4        2         1          0   \n",
       "113  9620         3          1        1        2         1          0   \n",
       "\n",
       "     basement  hotwaterheating  airconditioning  parking  prefarea    price  \n",
       "126         1                0                0        2         1  5880000  \n",
       "363         0                1                0        0         0  3710000  \n",
       "370         0                0                1        2         0  3640000  \n",
       "31          0                0                1        2         0  8400000  \n",
       "113         1                0                0        2         1  6083000  "
      ]
     },
     "execution_count": 14,
     "metadata": {},
     "output_type": "execute_result"
    }
   ],
   "source": [
    "num_vars2 = ['area', 'bedrooms', 'bathrooms', 'stories', 'parking', \n",
    "            'mainroad', 'guestroom', 'basement', 'hotwaterheating',\n",
    "            'airconditioning', 'parking', 'prefarea', 'price']\n",
    "df_Newtrain2 = df_train[num_vars2]\n",
    "df_Newtest2 = df_test[num_vars2]\n",
    "df_Newtrain2.head()"
   ]
  },
  {
   "cell_type": "code",
   "execution_count": 15,
   "id": "42f676fa-01c9-49e9-853b-8ad581a2b2a0",
   "metadata": {},
   "outputs": [],
   "source": [
    "#Training values 1b\n",
    "y2 = df_Newtrain2.values[:, 12] # get output values\n",
    "m2 = len(y)\n",
    "x1_train2 = df_Newtrain2.values[:, 0].reshape(m2, 1) # get input values\n",
    "x2_train2 = df_Newtrain2.values[:, 1].reshape(m2, 1) # get input values\n",
    "x3_train2 = df_Newtrain2.values[:, 2].reshape(m2, 1) # get input values\n",
    "x4_train2 = df_Newtrain2.values[:, 3].reshape(m2, 1) # get input values\n",
    "x5_train2 = df_Newtrain2.values[:, 4].reshape(m2, 1) # get input values\n",
    "x6_train2 = df_Newtrain2.values[:, 5].reshape(m2, 1) # get input values\n",
    "x7_train2 = df_Newtrain2.values[:, 6].reshape(m2, 1) # get input values\n",
    "x8_train2 = df_Newtrain2.values[:, 7].reshape(m2, 1) # get input values\n",
    "x9_train2 = df_Newtrain2.values[:, 8].reshape(m2, 1) # get input values\n",
    "x10_train2 = df_Newtrain2.values[:, 9].reshape(m2, 1) # get input values\n",
    "x11_train2 = df_Newtrain2.values[:, 10].reshape(m2, 1) # get input values\n",
    "x12_train2 = df_Newtrain2.values[:, 11].reshape(m2, 1) # get input values\n",
    "\n",
    "X_02 = np.ones((m2, 1))\n",
    "X_2 = np.hstack((X_02, x1_train2, x2_train2, x3_train2, x4_train2, x5_train2,\n",
    "                x6_train2, x7_train2, x8_train2, x9_train2, x10_train2, x11_train2\n",
    "                , x12_train2))\n",
    "\n",
    "#test values 1b\n",
    "ytest2 = df_Newtest2.values[:, 12] # get output values\n",
    "mtest2 = len(ytest2)\n",
    "x1_test2 = df_Newtest2.values[:, 0].reshape(mtest2, 1) # get input values\n",
    "x2_test2 = df_Newtest2.values[:, 1].reshape(mtest2, 1) # get input values\n",
    "x3_test2 = df_Newtest2.values[:, 2].reshape(mtest2, 1) # get input values\n",
    "x4_test2 = df_Newtest2.values[:, 3].reshape(mtest2, 1) # get input values \n",
    "x5_test2 = df_Newtest2.values[:, 4].reshape(mtest2, 1) # get input values\n",
    "x6_test2 = df_Newtest2.values[:, 5].reshape(mtest2, 1) # get input values\n",
    "x7_test2 = df_Newtest2.values[:, 6].reshape(mtest2, 1) # get input values \n",
    "x8_test2 = df_Newtest2.values[:, 7].reshape(mtest2, 1) # get input values \n",
    "x9_test2 = df_Newtest2.values[:, 8].reshape(mtest2, 1) # get input values \n",
    "x10_test2 = df_Newtest2.values[:, 9].reshape(mtest2, 1) # get input values \n",
    "x11_test2 = df_Newtest2.values[:, 10].reshape(mtest2, 1) # get input values \n",
    "x12_test2 = df_Newtest2.values[:, 11].reshape(mtest2, 1) # get input values \n",
    "\n",
    "X_02Test = np.ones((mtest2, 1))\n",
    "X_2Test = np.hstack((X_02Test, x1_test2, x2_test2, x3_test2, x4_test2, x5_test2,\n",
    "                    x6_test2, x7_test2, x8_test2, x9_test2, x10_test2, x11_test2,\n",
    "                    x12_test2))"
   ]
  },
  {
   "cell_type": "code",
   "execution_count": 74,
   "id": "0a58c7e4-af2a-4525-be13-423bd815140c",
   "metadata": {},
   "outputs": [
    {
     "name": "stdout",
     "output_type": "stream",
     "text": [
      "Final value of theta = [2.16051339e-01 8.54048130e+02 7.04926660e-01 3.33074345e-01\n",
      " 4.88464582e-01 1.72907921e-01 1.89454900e-01 5.74373455e-02\n",
      " 1.08564885e-01 1.74259310e-02 1.10322353e-01 1.72907921e-01\n",
      " 6.60666799e-02]\n"
     ]
    }
   ],
   "source": [
    "theta2 = np.zeros(13)\n",
    "iterations2=200;\n",
    "alpha2=0.000000001;\n",
    "\n",
    "theta2,cost_history2, cost_history_test2=gradient_descent(\n",
    "    X_2, X_2Test, y2, ytest2, theta2, alpha2, iterations2,  m2, mtest2)\n",
    "print('Final value of theta =',theta2)"
   ]
  },
  {
   "cell_type": "code",
   "execution_count": 75,
   "id": "2ae30533-e8e4-481c-9b23-077721d4bdab",
   "metadata": {},
   "outputs": [
    {
     "data": {
      "image/png": "[encoded data removed]",
      "text/plain": [
       "<Figure size 720x432 with 1 Axes>"
      ]
     },
     "metadata": {
      "needs_background": "light"
     },
     "output_type": "display_data"
    }
   ],
   "source": [
    "plt.figure(2)\n",
    "plt.plot(range(1, iterations2 + 1), cost_history2, label = 'Training')\n",
    "plt.plot(range(1, iterations2 + 1), cost_history_test2, label = 'Validation')\n",
    "plt.grid()\n",
    "plt.title('Gradient Descent 1b')\n",
    "plt.xlabel('Iterations')\n",
    "plt.ylabel('Loss')\n",
    "plt.legend()\n",
    "plt.rcParams[\"figure.figsize\"]=(10,6)"
   ]
  },
  {
   "cell_type": "code",
   "execution_count": 18,
   "id": "db8f73cc-3fdb-4762-bb79-32f1a4c181f0",
   "metadata": {},
   "outputs": [],
   "source": [
    "###############Problem 2#############"
   ]
  },
  {
   "cell_type": "code",
   "execution_count": 19,
   "id": "652dfe92-89da-42a7-9c37-45c95d3a6604",
   "metadata": {},
   "outputs": [],
   "source": [
    "import warnings\n",
    "warnings.filterwarnings('ignore')\n",
    "\n",
    "from sklearn.preprocessing import MinMaxScaler,StandardScaler\n",
    "\n",
    "# define standard scaler\n",
    "scalerStandard = StandardScaler()\n",
    "scalerNormal =MinMaxScaler()"
   ]
  },
  {
   "cell_type": "code",
   "execution_count": 20,
   "id": "592297bb-aa74-475d-94b9-68df3cc63ae6",
   "metadata": {},
   "outputs": [],
   "source": [
    "###########Normalization - Problem 2a##########"
   ]
  },
  {
   "cell_type": "code",
   "execution_count": 21,
   "id": "33008291-c579-4596-822f-b95d238efa87",
   "metadata": {},
   "outputs": [
    {
     "data": {
      "text/html": [
       "<div>\n",
       "<style scoped>\n",
       "    .dataframe tbody tr th:only-of-type {\n",
       "        vertical-align: middle;\n",
       "    }\n",
       "\n",
       "    .dataframe tbody tr th {\n",
       "        vertical-align: top;\n",
       "    }\n",
       "\n",
       "    .dataframe thead th {\n",
       "        text-align: right;\n",
       "    }\n",
       "</style>\n",
       "<table border=\"1\" class=\"dataframe\">\n",
       "  <thead>\n",
       "    <tr style=\"text-align: right;\">\n",
       "      <th></th>\n",
       "      <th>area</th>\n",
       "      <th>bedrooms</th>\n",
       "      <th>bathrooms</th>\n",
       "      <th>stories</th>\n",
       "      <th>parking</th>\n",
       "      <th>price</th>\n",
       "    </tr>\n",
       "  </thead>\n",
       "  <tbody>\n",
       "    <tr>\n",
       "      <th>126</th>\n",
       "      <td>0.378694</td>\n",
       "      <td>0.4</td>\n",
       "      <td>0.0</td>\n",
       "      <td>0.0</td>\n",
       "      <td>0.666667</td>\n",
       "      <td>0.393333</td>\n",
       "    </tr>\n",
       "    <tr>\n",
       "      <th>363</th>\n",
       "      <td>0.132921</td>\n",
       "      <td>0.2</td>\n",
       "      <td>0.0</td>\n",
       "      <td>0.0</td>\n",
       "      <td>0.000000</td>\n",
       "      <td>0.186667</td>\n",
       "    </tr>\n",
       "    <tr>\n",
       "      <th>370</th>\n",
       "      <td>0.180756</td>\n",
       "      <td>0.2</td>\n",
       "      <td>0.0</td>\n",
       "      <td>0.0</td>\n",
       "      <td>0.666667</td>\n",
       "      <td>0.180000</td>\n",
       "    </tr>\n",
       "    <tr>\n",
       "      <th>31</th>\n",
       "      <td>0.367698</td>\n",
       "      <td>0.4</td>\n",
       "      <td>0.0</td>\n",
       "      <td>1.0</td>\n",
       "      <td>0.666667</td>\n",
       "      <td>0.633333</td>\n",
       "    </tr>\n",
       "    <tr>\n",
       "      <th>113</th>\n",
       "      <td>0.547766</td>\n",
       "      <td>0.4</td>\n",
       "      <td>0.0</td>\n",
       "      <td>0.0</td>\n",
       "      <td>0.666667</td>\n",
       "      <td>0.412667</td>\n",
       "    </tr>\n",
       "  </tbody>\n",
       "</table>\n",
       "</div>"
      ],
      "text/plain": [
       "         area  bedrooms  bathrooms  stories   parking     price\n",
       "126  0.378694       0.4        0.0      0.0  0.666667  0.393333\n",
       "363  0.132921       0.2        0.0      0.0  0.000000  0.186667\n",
       "370  0.180756       0.2        0.0      0.0  0.666667  0.180000\n",
       "31   0.367698       0.4        0.0      1.0  0.666667  0.633333\n",
       "113  0.547766       0.4        0.0      0.0  0.666667  0.412667"
      ]
     },
     "execution_count": 21,
     "metadata": {},
     "output_type": "execute_result"
    }
   ],
   "source": [
    "df_Newtrain5 = df_train[num_vars]\n",
    "df_Newtest5 = df_test[num_vars]\n",
    "df_Newtrain5[num_vars] = scalerNormal.fit_transform(df_Newtrain5[num_vars])\n",
    "df_Newtest5[num_vars] = scalerNormal.fit_transform(df_Newtest5[num_vars])\n",
    "df_Newtrain5.head()"
   ]
  },
  {
   "cell_type": "code",
   "execution_count": 22,
   "id": "845e7bd0-4bae-490e-9707-0bc4426e631a",
   "metadata": {},
   "outputs": [],
   "source": [
    "#Training values Normalization -2a\n",
    "y5 = df_Newtrain5.values[:, 5] # get output values\n",
    "m5 = len(y)\n",
    "x1_train5 = df_Newtrain5.values[:, 0].reshape(m5, 1) # get input values\n",
    "x2_train5 = df_Newtrain5.values[:, 1].reshape(m5, 1) # get input values\n",
    "x3_train5 = df_Newtrain5.values[:, 2].reshape(m5, 1) # get input values\n",
    "x4_train5 = df_Newtrain5.values[:, 3].reshape(m5, 1) # get input values\n",
    "x5_train5 = df_Newtrain5.values[:, 4].reshape(m5, 1) # get input values\n",
    "\n",
    "X_05 = np.ones((m5, 1))\n",
    "X_5 = np.hstack((X_05, x1_train5, x2_train5, x3_train5, x4_train5, x5_train5))\n",
    "\n",
    "#Test values Normalization - 2a\n",
    "ytest5 = df_Newtest5.values[:, 5] # get output values\n",
    "mtest5 = len(ytest5)\n",
    "x1_test5 = df_Newtest5.values[:, 0].reshape(mtest5, 1) # get input values from first column\n",
    "x2_test5 = df_Newtest5.values[:, 1].reshape(mtest5, 1) # get input values from second column\n",
    "x3_test5 = df_Newtest5.values[:, 2].reshape(mtest5, 1) # get input values from third column\n",
    "x4_test5 = df_Newtest5.values[:, 3].reshape(mtest5, 1) # get input values from fourth column\n",
    "x5_test5 = df_Newtest5.values[:, 4].reshape(mtest5, 1) # get input values from fifth column\n",
    "\n",
    "X_05Test = np.ones((mtest5, 1))\n",
    "X_5Test = np.hstack((X_05Test, x1_test5, x2_test5, x3_test5, x4_test5, x5_test5))"
   ]
  },
  {
   "cell_type": "code",
   "execution_count": 23,
   "id": "1ac2667f-8c04-4902-a6af-6f95880733fb",
   "metadata": {},
   "outputs": [
    {
     "name": "stdout",
     "output_type": "stream",
     "text": [
      "Final value of theta = [0.1299687  0.16673146 0.10803689 0.13621252 0.13843466 0.13571984]\n"
     ]
    }
   ],
   "source": [
    "theta5 = [0., 0., 0., 0., 0., 0.]\n",
    "iterations5=1500;\n",
    "alpha5=0.01;\n",
    "\n",
    "theta5,cost_history5, cost_history_test5=gradient_descent(\n",
    "    X_5, X_5Test, y5, ytest5, theta5, alpha5, iterations5,  m5, mtest5)\n",
    "print('Final value of theta =',theta5)"
   ]
  },
  {
   "cell_type": "code",
   "execution_count": 24,
   "id": "97225d7c-63d9-4d08-a7ae-d368a9709809",
   "metadata": {},
   "outputs": [
    {
     "data": {
      "image/png": "[encoded data removed]",
      "text/plain": [
       "<Figure size 720x432 with 1 Axes>"
      ]
     },
     "metadata": {
      "needs_background": "light"
     },
     "output_type": "display_data"
    }
   ],
   "source": [
    "plt.figure(3)\n",
    "plt.plot(range(1, iterations5 + 1), cost_history5, label = 'Training')\n",
    "plt.plot(range(1, iterations5 + 1), cost_history_test5, label = 'Validation')\n",
    "plt.grid()\n",
    "plt.legend()\n",
    "plt.title('Gradient Descent - Normalization - 2a')\n",
    "plt.xlabel('Iterations')\n",
    "plt.ylabel('Loss')\n",
    "plt.rcParams[\"figure.figsize\"]=(10,6)"
   ]
  },
  {
   "cell_type": "code",
   "execution_count": 25,
   "id": "06926e80-9cd8-470c-83fd-5b04c49f9127",
   "metadata": {},
   "outputs": [],
   "source": [
    "######Standardization - Problem 2a######"
   ]
  },
  {
   "cell_type": "code",
   "execution_count": 26,
   "id": "e56b235f-52ca-4b4a-a312-362354979703",
   "metadata": {},
   "outputs": [
    {
     "data": {
      "text/html": [
       "<div>\n",
       "<style scoped>\n",
       "    .dataframe tbody tr th:only-of-type {\n",
       "        vertical-align: middle;\n",
       "    }\n",
       "\n",
       "    .dataframe tbody tr th {\n",
       "        vertical-align: top;\n",
       "    }\n",
       "\n",
       "    .dataframe thead th {\n",
       "        text-align: right;\n",
       "    }\n",
       "</style>\n",
       "<table border=\"1\" class=\"dataframe\">\n",
       "  <thead>\n",
       "    <tr style=\"text-align: right;\">\n",
       "      <th></th>\n",
       "      <th>area</th>\n",
       "      <th>bedrooms</th>\n",
       "      <th>bathrooms</th>\n",
       "      <th>stories</th>\n",
       "      <th>parking</th>\n",
       "      <th>price</th>\n",
       "    </tr>\n",
       "  </thead>\n",
       "  <tbody>\n",
       "    <tr>\n",
       "      <th>126</th>\n",
       "      <td>0.934301</td>\n",
       "      <td>0.055861</td>\n",
       "      <td>-0.553238</td>\n",
       "      <td>-0.907660</td>\n",
       "      <td>1.591603</td>\n",
       "      <td>0.630538</td>\n",
       "    </tr>\n",
       "    <tr>\n",
       "      <th>363</th>\n",
       "      <td>-0.710246</td>\n",
       "      <td>-1.274325</td>\n",
       "      <td>-0.553238</td>\n",
       "      <td>-0.907660</td>\n",
       "      <td>-0.800511</td>\n",
       "      <td>-0.593759</td>\n",
       "    </tr>\n",
       "    <tr>\n",
       "      <th>370</th>\n",
       "      <td>-0.390167</td>\n",
       "      <td>-1.274325</td>\n",
       "      <td>-0.553238</td>\n",
       "      <td>-0.907660</td>\n",
       "      <td>1.591603</td>\n",
       "      <td>-0.633253</td>\n",
       "    </tr>\n",
       "    <tr>\n",
       "      <th>31</th>\n",
       "      <td>0.860719</td>\n",
       "      <td>0.055861</td>\n",
       "      <td>-0.553238</td>\n",
       "      <td>2.573733</td>\n",
       "      <td>1.591603</td>\n",
       "      <td>2.052301</td>\n",
       "    </tr>\n",
       "    <tr>\n",
       "      <th>113</th>\n",
       "      <td>2.065617</td>\n",
       "      <td>0.055861</td>\n",
       "      <td>-0.553238</td>\n",
       "      <td>-0.907660</td>\n",
       "      <td>1.591603</td>\n",
       "      <td>0.745068</td>\n",
       "    </tr>\n",
       "  </tbody>\n",
       "</table>\n",
       "</div>"
      ],
      "text/plain": [
       "         area  bedrooms  bathrooms   stories   parking     price\n",
       "126  0.934301  0.055861  -0.553238 -0.907660  1.591603  0.630538\n",
       "363 -0.710246 -1.274325  -0.553238 -0.907660 -0.800511 -0.593759\n",
       "370 -0.390167 -1.274325  -0.553238 -0.907660  1.591603 -0.633253\n",
       "31   0.860719  0.055861  -0.553238  2.573733  1.591603  2.052301\n",
       "113  2.065617  0.055861  -0.553238 -0.907660  1.591603  0.745068"
      ]
     },
     "execution_count": 26,
     "metadata": {},
     "output_type": "execute_result"
    }
   ],
   "source": [
    "df_Newtrain6 = df_train[num_vars]\n",
    "df_Newtest6 = df_test[num_vars]\n",
    "df_Newtrain6[num_vars] = scalerStandard.fit_transform(df_Newtrain6[num_vars])\n",
    "df_Newtest6[num_vars] = scalerStandard.fit_transform(df_Newtest6[num_vars])\n",
    "df_Newtrain6.head()"
   ]
  },
  {
   "cell_type": "code",
   "execution_count": 27,
   "id": "089576ce-3b66-4222-9ff3-3f8d1b463a47",
   "metadata": {},
   "outputs": [],
   "source": [
    "#Training values Standardization - 2a\n",
    "y6 = df_Newtrain6.values[:, 5] # get output values\n",
    "m6 = len(y)\n",
    "x1_train6 = df_Newtrain6.values[:, 0].reshape(m6, 1) # get input values\n",
    "x2_train6 = df_Newtrain6.values[:, 1].reshape(m6, 1) # get input values\n",
    "x3_train6 = df_Newtrain6.values[:, 2].reshape(m6, 1) # get input values\n",
    "x4_train6 = df_Newtrain6.values[:, 3].reshape(m6, 1) # get input values\n",
    "x5_train6 = df_Newtrain6.values[:, 4].reshape(m6, 1) # get input values\n",
    "\n",
    "X_06 = np.ones((m6, 1))\n",
    "X_6 = np.hstack((X_06, x1_train6, x2_train6, x3_train6, x4_train6, x5_train6))\n",
    "\n",
    "#Test values Standardization - 2a\n",
    "ytest6 = df_Newtest6.values[:, 5] # get output values\n",
    "mtest6 = len(ytest6)\n",
    "x1_test6 = df_Newtest6.values[:, 0].reshape(mtest6, 1) # get input values from first column\n",
    "x2_test6 = df_Newtest6.values[:, 1].reshape(mtest6, 1) # get input values from second column\n",
    "x3_test6 = df_Newtest6.values[:, 2].reshape(mtest6, 1) # get input values from third column\n",
    "x4_test6 = df_Newtest6.values[:, 3].reshape(mtest6, 1) # get input values from fourth column\n",
    "x5_test6 = df_Newtest6.values[:, 4].reshape(mtest6, 1) # get input values from fifth column\n",
    "\n",
    "X_06Test = np.ones((mtest6, 1))\n",
    "X_6Test = np.hstack((X_06Test, x1_test6, x2_test6, x3_test5, x4_test6, x5_test6))"
   ]
  },
  {
   "cell_type": "code",
   "execution_count": 78,
   "id": "c09249bc-86d7-4df5-9dc7-93fba6afa8a7",
   "metadata": {},
   "outputs": [
    {
     "name": "stdout",
     "output_type": "stream",
     "text": [
      "Final value of theta = [1.07041818e-16 4.03969394e-01 6.83520452e-02 3.19609439e-01\n",
      " 2.29714811e-01 1.86551214e-01]\n"
     ]
    }
   ],
   "source": [
    "theta6 = np.zeros(6)\n",
    "iterations6=1500;\n",
    "alpha6=0.01;\n",
    "\n",
    "theta6,cost_history6, cost_history_test6=gradient_descent(\n",
    "    X_6, X_6Test, y6, ytest6, theta6, alpha6, iterations6,  m6, mtest6)\n",
    "print('Final value of theta =',theta6)"
   ]
  },
  {
   "cell_type": "code",
   "execution_count": 79,
   "id": "ed83004a-2c20-481c-acac-b10c9a4fb235",
   "metadata": {},
   "outputs": [
    {
     "data": {
      "image/png": "[encoded data removed]",
      "text/plain": [
       "<Figure size 720x432 with 1 Axes>"
      ]
     },
     "metadata": {
      "needs_background": "light"
     },
     "output_type": "display_data"
    }
   ],
   "source": [
    "plt.figure(3)\n",
    "plt.plot(range(1, iterations6 + 1), cost_history6, label = 'Training')\n",
    "plt.plot(range(1, iterations6 + 1), cost_history_test6, label = 'Validation')\n",
    "plt.grid()\n",
    "plt.legend()\n",
    "plt.title('Gradient Descent - Standardization - 2a')\n",
    "plt.xlabel('Iterations')\n",
    "plt.ylabel('Loss')\n",
    "plt.rcParams[\"figure.figsize\"]=(10,6)"
   ]
  },
  {
   "cell_type": "code",
   "execution_count": 30,
   "id": "db9c5656-0082-4cfe-99bf-0c4cdfb91dd6",
   "metadata": {},
   "outputs": [],
   "source": [
    "#######Normalization - Problem 2b#########"
   ]
  },
  {
   "cell_type": "code",
   "execution_count": 31,
   "id": "1559f740-aa55-4ff7-ac76-4c0cddbac4d2",
   "metadata": {},
   "outputs": [
    {
     "data": {
      "text/html": [
       "<div>\n",
       "<style scoped>\n",
       "    .dataframe tbody tr th:only-of-type {\n",
       "        vertical-align: middle;\n",
       "    }\n",
       "\n",
       "    .dataframe tbody tr th {\n",
       "        vertical-align: top;\n",
       "    }\n",
       "\n",
       "    .dataframe thead th {\n",
       "        text-align: right;\n",
       "    }\n",
       "</style>\n",
       "<table border=\"1\" class=\"dataframe\">\n",
       "  <thead>\n",
       "    <tr style=\"text-align: right;\">\n",
       "      <th></th>\n",
       "      <th>area</th>\n",
       "      <th>bedrooms</th>\n",
       "      <th>bathrooms</th>\n",
       "      <th>stories</th>\n",
       "      <th>parking</th>\n",
       "      <th>mainroad</th>\n",
       "      <th>guestroom</th>\n",
       "      <th>basement</th>\n",
       "      <th>hotwaterheating</th>\n",
       "      <th>airconditioning</th>\n",
       "      <th>parking</th>\n",
       "      <th>prefarea</th>\n",
       "      <th>price</th>\n",
       "    </tr>\n",
       "  </thead>\n",
       "  <tbody>\n",
       "    <tr>\n",
       "      <th>126</th>\n",
       "      <td>0.378694</td>\n",
       "      <td>0.4</td>\n",
       "      <td>0.0</td>\n",
       "      <td>0.0</td>\n",
       "      <td>0.666667</td>\n",
       "      <td>1.0</td>\n",
       "      <td>0.0</td>\n",
       "      <td>1.0</td>\n",
       "      <td>0.0</td>\n",
       "      <td>0.0</td>\n",
       "      <td>0.666667</td>\n",
       "      <td>1.0</td>\n",
       "      <td>0.393333</td>\n",
       "    </tr>\n",
       "    <tr>\n",
       "      <th>363</th>\n",
       "      <td>0.132921</td>\n",
       "      <td>0.2</td>\n",
       "      <td>0.0</td>\n",
       "      <td>0.0</td>\n",
       "      <td>0.000000</td>\n",
       "      <td>1.0</td>\n",
       "      <td>0.0</td>\n",
       "      <td>0.0</td>\n",
       "      <td>1.0</td>\n",
       "      <td>0.0</td>\n",
       "      <td>0.000000</td>\n",
       "      <td>0.0</td>\n",
       "      <td>0.186667</td>\n",
       "    </tr>\n",
       "    <tr>\n",
       "      <th>370</th>\n",
       "      <td>0.180756</td>\n",
       "      <td>0.2</td>\n",
       "      <td>0.0</td>\n",
       "      <td>0.0</td>\n",
       "      <td>0.666667</td>\n",
       "      <td>1.0</td>\n",
       "      <td>0.0</td>\n",
       "      <td>0.0</td>\n",
       "      <td>0.0</td>\n",
       "      <td>1.0</td>\n",
       "      <td>0.666667</td>\n",
       "      <td>0.0</td>\n",
       "      <td>0.180000</td>\n",
       "    </tr>\n",
       "    <tr>\n",
       "      <th>31</th>\n",
       "      <td>0.367698</td>\n",
       "      <td>0.4</td>\n",
       "      <td>0.0</td>\n",
       "      <td>1.0</td>\n",
       "      <td>0.666667</td>\n",
       "      <td>1.0</td>\n",
       "      <td>0.0</td>\n",
       "      <td>0.0</td>\n",
       "      <td>0.0</td>\n",
       "      <td>1.0</td>\n",
       "      <td>0.666667</td>\n",
       "      <td>0.0</td>\n",
       "      <td>0.633333</td>\n",
       "    </tr>\n",
       "    <tr>\n",
       "      <th>113</th>\n",
       "      <td>0.547766</td>\n",
       "      <td>0.4</td>\n",
       "      <td>0.0</td>\n",
       "      <td>0.0</td>\n",
       "      <td>0.666667</td>\n",
       "      <td>1.0</td>\n",
       "      <td>0.0</td>\n",
       "      <td>1.0</td>\n",
       "      <td>0.0</td>\n",
       "      <td>0.0</td>\n",
       "      <td>0.666667</td>\n",
       "      <td>1.0</td>\n",
       "      <td>0.412667</td>\n",
       "    </tr>\n",
       "  </tbody>\n",
       "</table>\n",
       "</div>"
      ],
      "text/plain": [
       "         area  bedrooms  bathrooms  stories   parking  mainroad  guestroom  \\\n",
       "126  0.378694       0.4        0.0      0.0  0.666667       1.0        0.0   \n",
       "363  0.132921       0.2        0.0      0.0  0.000000       1.0        0.0   \n",
       "370  0.180756       0.2        0.0      0.0  0.666667       1.0        0.0   \n",
       "31   0.367698       0.4        0.0      1.0  0.666667       1.0        0.0   \n",
       "113  0.547766       0.4        0.0      0.0  0.666667       1.0        0.0   \n",
       "\n",
       "     basement  hotwaterheating  airconditioning   parking  prefarea     price  \n",
       "126       1.0              0.0              0.0  0.666667       1.0  0.393333  \n",
       "363       0.0              1.0              0.0  0.000000       0.0  0.186667  \n",
       "370       0.0              0.0              1.0  0.666667       0.0  0.180000  \n",
       "31        0.0              0.0              1.0  0.666667       0.0  0.633333  \n",
       "113       1.0              0.0              0.0  0.666667       1.0  0.412667  "
      ]
     },
     "execution_count": 31,
     "metadata": {},
     "output_type": "execute_result"
    }
   ],
   "source": [
    "df_Newtrain3 = df_train[num_vars2]\n",
    "df_Newtrain3[num_vars2] = scalerNormal.fit_transform(df_Newtrain3[num_vars2])\n",
    "df_Newtest3 = df_test[num_vars2]\n",
    "df_Newtest3[num_vars2] = scalerNormal.fit_transform(df_Newtest3[num_vars2])\n",
    "df_Newtrain3.head()"
   ]
  },
  {
   "cell_type": "code",
   "execution_count": 32,
   "id": "2aad6bb7-ebfb-491a-918f-f843d2cfa102",
   "metadata": {},
   "outputs": [],
   "source": [
    "#Training values - Normalization 2b\n",
    "y3 = df_Newtrain3.values[:, 12] # get output values\n",
    "m3 = len(y)\n",
    "x1_train3 = df_Newtrain3.values[:, 0].reshape(m, 1) # get input values\n",
    "x2_train3 = df_Newtrain3.values[:, 1].reshape(m, 1) # get input values\n",
    "x3_train3 = df_Newtrain3.values[:, 2].reshape(m, 1) # get input values\n",
    "x4_train3 = df_Newtrain3.values[:, 3].reshape(m, 1) # get input values\n",
    "x5_train3 = df_Newtrain3.values[:, 4].reshape(m, 1) # get input values\n",
    "x6_train3 = df_Newtrain3.values[:, 5].reshape(m, 1) # get input values\n",
    "x7_train3 = df_Newtrain3.values[:, 6].reshape(m, 1) # get input values\n",
    "x8_train3 = df_Newtrain3.values[:, 7].reshape(m, 1) # get input values\n",
    "x9_train3 = df_Newtrain3.values[:, 8].reshape(m, 1) # get input values\n",
    "x10_train3 = df_Newtrain3.values[:, 9].reshape(m, 1) # get input values\n",
    "x11_train3 = df_Newtrain3.values[:, 10].reshape(m, 1) # get input values\n",
    "x12_train3 = df_Newtrain3.values[:, 11].reshape(m, 1) # get input values\n",
    "\n",
    "X_03 = np.ones((m3, 1))\n",
    "X_3 = np.hstack((X_03, x1_train3, x2_train3, x3_train3, x4_train3, x5_train3,\n",
    "                x6_train3, x7_train3, x8_train3, x9_train3, x10_train3, x11_train3\n",
    "                , x12_train3))\n",
    "\n",
    "#test values Normalization 2b\n",
    "ytest3 = df_Newtest3.values[:, 12] # get output values\n",
    "mtest3 = len(ytest3)\n",
    "x1_test3 = df_Newtest3.values[:, 0].reshape(mtest3, 1) # get input values\n",
    "x2_test3 = df_Newtest3.values[:, 1].reshape(mtest3, 1) # get input values\n",
    "x3_test3 = df_Newtest3.values[:, 2].reshape(mtest3, 1) # get input values\n",
    "x4_test3 = df_Newtest3.values[:, 3].reshape(mtest3, 1) # get input values \n",
    "x5_test3 = df_Newtest3.values[:, 4].reshape(mtest3, 1) # get input values\n",
    "x6_test3 = df_Newtest3.values[:, 5].reshape(mtest3, 1) # get input values\n",
    "x7_test3 = df_Newtest3.values[:, 6].reshape(mtest3, 1) # get input values \n",
    "x8_test3 = df_Newtest3.values[:, 7].reshape(mtest3, 1) # get input values \n",
    "x9_test3 = df_Newtest3.values[:, 8].reshape(mtest3, 1) # get input values \n",
    "x10_test3 = df_Newtest3.values[:, 9].reshape(mtest3, 1) # get input values \n",
    "x11_test3 = df_Newtest3.values[:, 10].reshape(mtest3, 1) # get input values \n",
    "x12_test3 = df_Newtest3.values[:, 11].reshape(mtest3, 1) # get input values \n",
    "\n",
    "X_03Test = np.ones((mtest3, 1))\n",
    "X_3Test = np.hstack((X_03Test, x1_test3, x2_test3, x3_test3, x4_test3, x5_test3,\n",
    "                    x6_test3, x7_test3, x8_test3, x9_test3, x10_test3, x11_test3,\n",
    "                    x12_test3))"
   ]
  },
  {
   "cell_type": "code",
   "execution_count": 86,
   "id": "820b6bac-50b1-4558-90b8-5e57978deaf8",
   "metadata": {},
   "outputs": [
    {
     "name": "stdout",
     "output_type": "stream",
     "text": [
      "Final value of theta = [0.04511239 0.11949745 0.07328995 0.13020205 0.11578356 0.06488418\n",
      " 0.05660141 0.04316925 0.04237767 0.04286351 0.08979833 0.06488418\n",
      " 0.05434169]\n"
     ]
    }
   ],
   "source": [
    "theta3 = np.zeros(13)\n",
    "\n",
    "iterations3=1700;\n",
    "alpha3=0.01;\n",
    "\n",
    "theta3,cost_history3, cost_history_test3 =gradient_descent(\n",
    "    X_3, X_3Test, y3, ytest3, theta3, alpha3, iterations3,  m3, mtest3)\n",
    "print('Final value of theta =',theta3)"
   ]
  },
  {
   "cell_type": "code",
   "execution_count": 87,
   "id": "abeda669-1617-4457-b069-6a56b845167e",
   "metadata": {},
   "outputs": [
    {
     "data": {
      "image/png": "[encoded data removed]",
      "text/plain": [
       "<Figure size 720x432 with 1 Axes>"
      ]
     },
     "metadata": {
      "needs_background": "light"
     },
     "output_type": "display_data"
    }
   ],
   "source": [
    "plt.figure(3)\n",
    "plt.plot(range(1, iterations3 + 1), cost_history3, label = 'Training')\n",
    "plt.plot(range(1, iterations3 + 1), cost_history_test3, label = 'Validation')\n",
    "plt.grid()\n",
    "plt.legend()\n",
    "plt.title('Gradient Descent - Normalization 2b')\n",
    "plt.xlabel('Iterations')\n",
    "plt.ylabel('Loss')\n",
    "plt.rcParams[\"figure.figsize\"]=(10,6)"
   ]
  },
  {
   "cell_type": "code",
   "execution_count": 35,
   "id": "f0483adb-c2cf-4277-bd9e-404f009d6112",
   "metadata": {},
   "outputs": [],
   "source": [
    "###########Standardization - Problem 2b###########"
   ]
  },
  {
   "cell_type": "code",
   "execution_count": 36,
   "id": "986b3bc3-eba9-4d4b-b050-a31256c2d965",
   "metadata": {},
   "outputs": [
    {
     "data": {
      "text/html": [
       "<div>\n",
       "<style scoped>\n",
       "    .dataframe tbody tr th:only-of-type {\n",
       "        vertical-align: middle;\n",
       "    }\n",
       "\n",
       "    .dataframe tbody tr th {\n",
       "        vertical-align: top;\n",
       "    }\n",
       "\n",
       "    .dataframe thead th {\n",
       "        text-align: right;\n",
       "    }\n",
       "</style>\n",
       "<table border=\"1\" class=\"dataframe\">\n",
       "  <thead>\n",
       "    <tr style=\"text-align: right;\">\n",
       "      <th></th>\n",
       "      <th>area</th>\n",
       "      <th>bedrooms</th>\n",
       "      <th>bathrooms</th>\n",
       "      <th>stories</th>\n",
       "      <th>parking</th>\n",
       "      <th>mainroad</th>\n",
       "      <th>guestroom</th>\n",
       "      <th>basement</th>\n",
       "      <th>hotwaterheating</th>\n",
       "      <th>airconditioning</th>\n",
       "      <th>parking</th>\n",
       "      <th>prefarea</th>\n",
       "      <th>price</th>\n",
       "    </tr>\n",
       "  </thead>\n",
       "  <tbody>\n",
       "    <tr>\n",
       "      <th>126</th>\n",
       "      <td>0.934301</td>\n",
       "      <td>0.055861</td>\n",
       "      <td>-0.553238</td>\n",
       "      <td>-0.907660</td>\n",
       "      <td>1.591603</td>\n",
       "      <td>0.397561</td>\n",
       "      <td>-0.478573</td>\n",
       "      <td>1.334549</td>\n",
       "      <td>-0.235376</td>\n",
       "      <td>-0.682191</td>\n",
       "      <td>1.591603</td>\n",
       "      <td>1.798147</td>\n",
       "      <td>0.630538</td>\n",
       "    </tr>\n",
       "    <tr>\n",
       "      <th>363</th>\n",
       "      <td>-0.710246</td>\n",
       "      <td>-1.274325</td>\n",
       "      <td>-0.553238</td>\n",
       "      <td>-0.907660</td>\n",
       "      <td>-0.800511</td>\n",
       "      <td>0.397561</td>\n",
       "      <td>-0.478573</td>\n",
       "      <td>-0.749317</td>\n",
       "      <td>4.248529</td>\n",
       "      <td>-0.682191</td>\n",
       "      <td>-0.800511</td>\n",
       "      <td>-0.556128</td>\n",
       "      <td>-0.593759</td>\n",
       "    </tr>\n",
       "    <tr>\n",
       "      <th>370</th>\n",
       "      <td>-0.390167</td>\n",
       "      <td>-1.274325</td>\n",
       "      <td>-0.553238</td>\n",
       "      <td>-0.907660</td>\n",
       "      <td>1.591603</td>\n",
       "      <td>0.397561</td>\n",
       "      <td>-0.478573</td>\n",
       "      <td>-0.749317</td>\n",
       "      <td>-0.235376</td>\n",
       "      <td>1.465865</td>\n",
       "      <td>1.591603</td>\n",
       "      <td>-0.556128</td>\n",
       "      <td>-0.633253</td>\n",
       "    </tr>\n",
       "    <tr>\n",
       "      <th>31</th>\n",
       "      <td>0.860719</td>\n",
       "      <td>0.055861</td>\n",
       "      <td>-0.553238</td>\n",
       "      <td>2.573733</td>\n",
       "      <td>1.591603</td>\n",
       "      <td>0.397561</td>\n",
       "      <td>-0.478573</td>\n",
       "      <td>-0.749317</td>\n",
       "      <td>-0.235376</td>\n",
       "      <td>1.465865</td>\n",
       "      <td>1.591603</td>\n",
       "      <td>-0.556128</td>\n",
       "      <td>2.052301</td>\n",
       "    </tr>\n",
       "    <tr>\n",
       "      <th>113</th>\n",
       "      <td>2.065617</td>\n",
       "      <td>0.055861</td>\n",
       "      <td>-0.553238</td>\n",
       "      <td>-0.907660</td>\n",
       "      <td>1.591603</td>\n",
       "      <td>0.397561</td>\n",
       "      <td>-0.478573</td>\n",
       "      <td>1.334549</td>\n",
       "      <td>-0.235376</td>\n",
       "      <td>-0.682191</td>\n",
       "      <td>1.591603</td>\n",
       "      <td>1.798147</td>\n",
       "      <td>0.745068</td>\n",
       "    </tr>\n",
       "  </tbody>\n",
       "</table>\n",
       "</div>"
      ],
      "text/plain": [
       "         area  bedrooms  bathrooms   stories   parking  mainroad  guestroom  \\\n",
       "126  0.934301  0.055861  -0.553238 -0.907660  1.591603  0.397561  -0.478573   \n",
       "363 -0.710246 -1.274325  -0.553238 -0.907660 -0.800511  0.397561  -0.478573   \n",
       "370 -0.390167 -1.274325  -0.553238 -0.907660  1.591603  0.397561  -0.478573   \n",
       "31   0.860719  0.055861  -0.553238  2.573733  1.591603  0.397561  -0.478573   \n",
       "113  2.065617  0.055861  -0.553238 -0.907660  1.591603  0.397561  -0.478573   \n",
       "\n",
       "     basement  hotwaterheating  airconditioning   parking  prefarea     price  \n",
       "126  1.334549        -0.235376        -0.682191  1.591603  1.798147  0.630538  \n",
       "363 -0.749317         4.248529        -0.682191 -0.800511 -0.556128 -0.593759  \n",
       "370 -0.749317        -0.235376         1.465865  1.591603 -0.556128 -0.633253  \n",
       "31  -0.749317        -0.235376         1.465865  1.591603 -0.556128  2.052301  \n",
       "113  1.334549        -0.235376        -0.682191  1.591603  1.798147  0.745068  "
      ]
     },
     "execution_count": 36,
     "metadata": {},
     "output_type": "execute_result"
    }
   ],
   "source": [
    "df_Newtrain4 = df_train[num_vars2]\n",
    "df_Newtrain4[num_vars2] = scalerStandard.fit_transform(df_Newtrain4[num_vars2])\n",
    "df_Newtest4 = df_test[num_vars2]\n",
    "df_Newtest4[num_vars2] = scalerStandard.fit_transform(df_Newtest4[num_vars2])\n",
    "df_Newtrain4.head()"
   ]
  },
  {
   "cell_type": "code",
   "execution_count": 37,
   "id": "54c41324-5081-4daa-b99b-9eea7e94eac9",
   "metadata": {},
   "outputs": [],
   "source": [
    "#training values Standardization 2b\n",
    "y4 = df_Newtrain4.values[:, 12] # get output values\n",
    "m4 = len(y4)\n",
    "x1_train4 = df_Newtrain4.values[:, 0].reshape(m, 1) # get input values\n",
    "x2_train4 = df_Newtrain4.values[:, 1].reshape(m, 1) # get input values\n",
    "x3_train4 = df_Newtrain4.values[:, 2].reshape(m, 1) # get input values\n",
    "x4_train4 = df_Newtrain4.values[:, 3].reshape(m, 1) # get input values\n",
    "x5_train4 = df_Newtrain4.values[:, 4].reshape(m, 1) # get input values\n",
    "x6_train4 = df_Newtrain4.values[:, 5].reshape(m, 1) # get input values\n",
    "x7_train4 = df_Newtrain4.values[:, 6].reshape(m, 1) # get input values\n",
    "x8_train4 = df_Newtrain4.values[:, 7].reshape(m, 1) # get input values\n",
    "x9_train4 = df_Newtrain4.values[:, 8].reshape(m, 1) # get input values\n",
    "x10_train4 = df_Newtrain4.values[:, 9].reshape(m, 1) # get input values\n",
    "x11_train4 = df_Newtrain4.values[:, 10].reshape(m, 1) # get input values\n",
    "x12_train4 = df_Newtrain4.values[:, 11].reshape(m, 1) # get input values\n",
    "\n",
    "X_04 = np.ones((m4, 1))\n",
    "X_4 = np.hstack((X_04, x1_train4, x2_train4, x3_train4, x4_train4, x5_train4,\n",
    "                x6_train4, x7_train4, x8_train4, x9_train4, x10_train4,\n",
    "                 x11_train4, x12_train4))\n",
    "\n",
    "#test values Standardization 2b\n",
    "ytest4 = df_Newtest4.values[:, 12] # get output values\n",
    "mtest4 = len(ytest4)\n",
    "x1_test4 = df_Newtest4.values[:, 0].reshape(mtest4, 1) # get input values\n",
    "x2_test4 = df_Newtest4.values[:, 1].reshape(mtest4, 1) # get input values\n",
    "x3_test4 = df_Newtest4.values[:, 2].reshape(mtest4, 1) # get input values\n",
    "x4_test4 = df_Newtest4.values[:, 3].reshape(mtest4, 1) # get input values \n",
    "x5_test4 = df_Newtest4.values[:, 4].reshape(mtest4, 1) # get input values\n",
    "x6_test4 = df_Newtest4.values[:, 5].reshape(mtest4, 1) # get input values\n",
    "x7_test4 = df_Newtest4.values[:, 6].reshape(mtest4, 1) # get input values \n",
    "x8_test4 = df_Newtest4.values[:, 7].reshape(mtest4, 1) # get input values \n",
    "x9_test4 = df_Newtest4.values[:, 8].reshape(mtest4, 1) # get input values \n",
    "x10_test4 = df_Newtest4.values[:, 9].reshape(mtest4, 1) # get input values \n",
    "x11_test4 = df_Newtest4.values[:, 10].reshape(mtest4, 1) # get input values \n",
    "x12_test4 = df_Newtest4.values[:, 11].reshape(mtest4, 1) # get input values \n",
    "\n",
    "X_04Test = np.ones((mtest4, 1))\n",
    "X_4Test = np.hstack((X_04Test, x1_test4, x2_test4, x3_test4, x4_test4, x5_test4,\n",
    "                    x6_test4, x7_test4, x8_test4, x9_test4, x10_test4, x11_test4,\n",
    "                    x12_test4))"
   ]
  },
  {
   "cell_type": "code",
   "execution_count": 38,
   "id": "9ffb5620-0a1c-4955-a1d9-8d16697be441",
   "metadata": {},
   "outputs": [
    {
     "name": "stdout",
     "output_type": "stream",
     "text": [
      "Final value of theta = [5.98558823e-17 3.06852165e-01 4.98916000e-02 2.98342882e-01\n",
      " 2.00178622e-01 7.56902490e-02 9.26663879e-02 7.24154707e-02\n",
      " 1.30668782e-01 8.20473911e-02 1.87048274e-01 7.56902490e-02\n",
      " 1.23921424e-01]\n"
     ]
    }
   ],
   "source": [
    "theta4 = np.zeros(13)\n",
    "iterations4=500;\n",
    "alpha4=0.01;\n",
    "\n",
    "theta4,cost_history4, cost_history_test4 =gradient_descent(\n",
    "    X_4, X_4Test, y4, ytest4, theta4, alpha4, iterations4,  m4, mtest4)\n",
    "print('Final value of theta =',theta4)"
   ]
  },
  {
   "cell_type": "code",
   "execution_count": 39,
   "id": "e81bc904-a2d8-496d-a1f1-7c5c241c80f1",
   "metadata": {},
   "outputs": [
    {
     "data": {
      "image/png": "[encoded data removed]",
      "text/plain": [
       "<Figure size 720x432 with 1 Axes>"
      ]
     },
     "metadata": {
      "needs_background": "light"
     },
     "output_type": "display_data"
    }
   ],
   "source": [
    "plt.figure(3)\n",
    "plt.plot(range(1, iterations4 + 1), cost_history4, label ='Training')\n",
    "plt.plot(range(1, iterations4 + 1), cost_history_test4, label = 'Validation')\n",
    "plt.grid()\n",
    "plt.legend()\n",
    "plt.title('Gradient Descent - Standardization 2b')\n",
    "plt.xlabel('Iterations')\n",
    "plt.ylabel('Loss')\n",
    "plt.rcParams[\"figure.figsize\"]=(10,6)"
   ]
  },
  {
   "cell_type": "code",
   "execution_count": 40,
   "id": "2cb6af28-966a-4d9e-9738-654adea9de82",
   "metadata": {},
   "outputs": [],
   "source": [
    "##################Problem 3a - Normalizations#########"
   ]
  },
  {
   "cell_type": "code",
   "execution_count": 88,
   "id": "a35c9c82-3209-4375-8927-74a7154218db",
   "metadata": {},
   "outputs": [
    {
     "name": "stdout",
     "output_type": "stream",
     "text": [
      "Final value of theta = [0.12600263 0.17515688 0.10720097 0.14449405 0.14028825 0.13800605]\n"
     ]
    }
   ],
   "source": [
    "theta7 = np.zeros(6)\n",
    "iterations7=1700;\n",
    "alpha7=0.01;\n",
    "lamda7 = 0.99\n",
    "\n",
    "theta7,cost_history7, cost_history_test7=gradient_descent_penalty(\n",
    "    X_5, X_5Test, y5, ytest5, theta7, alpha7, iterations7,  m5, mtest5, lamda7)\n",
    "print('Final value of theta =',theta7)"
   ]
  },
  {
   "cell_type": "code",
   "execution_count": 89,
   "id": "0515ddbb-6f95-4399-858b-0dc5bcb3ebae",
   "metadata": {},
   "outputs": [
    {
     "data": {
      "image/png": "[encoded data removed]",
      "text/plain": [
       "<Figure size 720x432 with 1 Axes>"
      ]
     },
     "metadata": {
      "needs_background": "light"
     },
     "output_type": "display_data"
    }
   ],
   "source": [
    "plt.figure(3)\n",
    "plt.plot(range(1, iterations7 + 1), cost_history7, label ='Training')\n",
    "plt.plot(range(1, iterations7 + 1), cost_history_test7, label = 'Validation')\n",
    "plt.grid()\n",
    "plt.legend()\n",
    "plt.title('Gradient Descent - Parameters Penalty - 3a - Normalization')\n",
    "plt.xlabel('Iterations')\n",
    "plt.ylabel('Loss')\n",
    "plt.rcParams[\"figure.figsize\"]=(10,6)"
   ]
  },
  {
   "cell_type": "code",
   "execution_count": 48,
   "id": "9e055299-9dd0-41c8-b8fe-3dd12fe65fb2",
   "metadata": {},
   "outputs": [],
   "source": [
    "##################Problem 3a - Standardization#########"
   ]
  },
  {
   "cell_type": "code",
   "execution_count": 58,
   "id": "d02b5c48-8103-4748-8afc-9cdd635427d1",
   "metadata": {},
   "outputs": [
    {
     "name": "stdout",
     "output_type": "stream",
     "text": [
      "Final value of theta = [1.04334739e-16 4.03051950e-01 6.87842418e-02 3.18959812e-01\n",
      " 2.29225872e-01 1.86407904e-01]\n"
     ]
    }
   ],
   "source": [
    "theta8 = np.zeros(6)\n",
    "iterations8=1700;\n",
    "alpha8=0.01;\n",
    "lamda8 = 1\n",
    "\n",
    "theta8,cost_history8, cost_history_test8=gradient_descent_penalty(\n",
    "    X_6, X_6Test, y6, ytest6, theta8, alpha8, iterations8,  m6, mtest6, lamda8)\n",
    "print('Final value of theta =',theta8)"
   ]
  },
  {
   "cell_type": "code",
   "execution_count": 90,
   "id": "cd3f80e5-91fb-46dd-9631-9ad6aa1b46b9",
   "metadata": {},
   "outputs": [
    {
     "data": {
      "image/png": "[encoded data removed]",
      "text/plain": [
       "<Figure size 720x432 with 1 Axes>"
      ]
     },
     "metadata": {
      "needs_background": "light"
     },
     "output_type": "display_data"
    }
   ],
   "source": [
    "plt.figure(3)\n",
    "plt.plot(range(1, iterations8 + 1), cost_history8, label ='Training')\n",
    "plt.plot(range(1, iterations8 + 1), cost_history_test8, label = 'Validation')\n",
    "plt.grid()\n",
    "plt.legend()\n",
    "plt.title('Gradient Descent - Parameters Penalty - 3a - Standardization')\n",
    "plt.xlabel('Iterations')\n",
    "plt.ylabel('Loss')\n",
    "plt.rcParams[\"figure.figsize\"]=(10,6)"
   ]
  },
  {
   "cell_type": "code",
   "execution_count": 60,
   "id": "8fb150f2-3579-41e1-9b7e-852b887ca998",
   "metadata": {},
   "outputs": [],
   "source": [
    "##################Problem 3b - Normalizations#########"
   ]
  },
  {
   "cell_type": "code",
   "execution_count": 95,
   "id": "dc319c06-612b-4d98-a791-c58862620ce0",
   "metadata": {},
   "outputs": [
    {
     "name": "stdout",
     "output_type": "stream",
     "text": [
      "Final value of theta = [0.06849423 0.0759271  0.06230386 0.07733317 0.08912285 0.05844994\n",
      " 0.06798219 0.04130005 0.04100869 0.02661289 0.09118157 0.05844994\n",
      " 0.04937696]\n"
     ]
    }
   ],
   "source": [
    "theta9 = np.zeros(13)\n",
    "lamda9 = 1\n",
    "iterations9=800;\n",
    "alpha9=0.01;\n",
    "\n",
    "theta9,cost_history9, cost_history_test9 =gradient_descent_penalty(\n",
    "    X_3, X_3Test, y3, ytest3, theta9, alpha9, iterations9,  m3, mtest3, lamda9)\n",
    "print('Final value of theta =',theta9)"
   ]
  },
  {
   "cell_type": "code",
   "execution_count": 96,
   "id": "04f90807-65b3-42bd-bacd-51bf86da1422",
   "metadata": {},
   "outputs": [
    {
     "data": {
      "image/png": "[encoded data removed]",
      "text/plain": [
       "<Figure size 720x432 with 1 Axes>"
      ]
     },
     "metadata": {
      "needs_background": "light"
     },
     "output_type": "display_data"
    }
   ],
   "source": [
    "plt.figure(3)\n",
    "plt.plot(range(1, iterations9 + 1), cost_history9, label ='Training')\n",
    "plt.plot(range(1, iterations9 + 1), cost_history_test9, label = 'Validation')\n",
    "plt.grid()\n",
    "plt.legend()\n",
    "plt.title('Gradient Descent - Parameters Penalty - 3b - Normalization')\n",
    "plt.xlabel('Iterations')\n",
    "plt.ylabel('Loss')\n",
    "plt.rcParams[\"figure.figsize\"]=(10,6)"
   ]
  },
  {
   "cell_type": "code",
   "execution_count": 64,
   "id": "058a140b-1f9d-4d73-b2b5-8fa30ec34bca",
   "metadata": {},
   "outputs": [],
   "source": [
    "##################Problem 3b - Standardization#########"
   ]
  },
  {
   "cell_type": "code",
   "execution_count": 97,
   "id": "1177ce79-9e5d-4a80-9b03-454aba131360",
   "metadata": {},
   "outputs": [
    {
     "name": "stdout",
     "output_type": "stream",
     "text": [
      "Final value of theta = [6.95739762e-17 3.11600315e-01 4.08547061e-02 3.00618995e-01\n",
      " 2.07122884e-01 7.53320926e-02 8.90079906e-02 6.75275101e-02\n",
      " 1.36782624e-01 8.22194940e-02 1.85307261e-01 7.53320926e-02\n",
      " 1.23871068e-01]\n"
     ]
    }
   ],
   "source": [
    "theta10 = np.zeros(13)\n",
    "iterations10=800;\n",
    "alpha10=0.01;\n",
    "lamda10 = 1;\n",
    "\n",
    "theta10,cost_history10, cost_history_test10 =gradient_descent_penalty(\n",
    "    X_4, X_4Test, y4, ytest4, theta10, alpha10, iterations10,  m4, mtest4, lamda10)\n",
    "print('Final value of theta =',theta10)"
   ]
  },
  {
   "cell_type": "code",
   "execution_count": 99,
   "id": "f38cdfcf-da1f-45db-a484-eb8db9d64f7c",
   "metadata": {},
   "outputs": [
    {
     "data": {
      "image/png": "[encoded data removed]",
      "text/plain": [
       "<Figure size 720x432 with 1 Axes>"
      ]
     },
     "metadata": {
      "needs_background": "light"
     },
     "output_type": "display_data"
    }
   ],
   "source": [
    "plt.figure(3)\n",
    "plt.plot(range(1, iterations10 + 1), cost_history10, label ='Training')\n",
    "plt.plot(range(1, iterations10 + 1), cost_history_test10, label = 'Validation')\n",
    "plt.grid()\n",
    "plt.legend()\n",
    "plt.title('Gradient Descent - Parameters Penalty - 3b - Standardization')\n",
    "plt.xlabel('Iterations')\n",
    "plt.ylabel('Loss')\n",
    "plt.rcParams[\"figure.figsize\"]=(10,6)"
   ]
  },
  {
   "cell_type": "code",
   "execution_count": null,
   "id": "7ec75383-b600-4902-a662-4c50c24b5b65",
   "metadata": {},
   "outputs": [],
   "source": []
  }
 ],
 "metadata": {
  "kernelspec": {
   "display_name": "Python 3",
   "language": "python",
   "name": "python3"
  },
  "language_info": {
   "codemirror_mode": {
    "name": "ipython",
    "version": 3
   },
   "file_extension": ".py",
   "mimetype": "text/x-python",
   "name": "python",
   "nbconvert_exporter": "python",
   "pygments_lexer": "ipython3",
   "version": "3.8.8"
  }
 },
 "nbformat": 4,
 "nbformat_minor": 5
}
