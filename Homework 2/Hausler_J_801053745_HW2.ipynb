{
 "cells": [
  {
   "cell_type": "code",
   "execution_count": 1,
   "id": "9984004b-eede-4c80-a060-58726ab7f5f7",
   "metadata": {},
   "outputs": [],
   "source": [
    "#Jaiden Hausler\n",
    "#ECGR 4105"
   ]
  },
  {
   "cell_type": "code",
   "execution_count": 2,
   "id": "ee2bbe93-f3eb-4e32-bffc-b6950f9db00c",
   "metadata": {},
   "outputs": [],
   "source": [
    "import numpy as np\n",
    "import pandas as pd\n",
    "import matplotlib.pyplot as plt\n",
    "import seaborn as sns"
   ]
  },
  {
   "cell_type": "code",
   "execution_count": 3,
   "id": "dd0cd3ad-3ec5-4db1-a5f5-bd563cdbb4f8",
   "metadata": {},
   "outputs": [
    {
     "data": {
      "text/html": [
       "<div>\n",
       "<style scoped>\n",
       "    .dataframe tbody tr th:only-of-type {\n",
       "        vertical-align: middle;\n",
       "    }\n",
       "\n",
       "    .dataframe tbody tr th {\n",
       "        vertical-align: top;\n",
       "    }\n",
       "\n",
       "    .dataframe thead th {\n",
       "        text-align: right;\n",
       "    }\n",
       "</style>\n",
       "<table border=\"1\" class=\"dataframe\">\n",
       "  <thead>\n",
       "    <tr style=\"text-align: right;\">\n",
       "      <th></th>\n",
       "      <th>Pregnancies</th>\n",
       "      <th>Glucose</th>\n",
       "      <th>BloodPressure</th>\n",
       "      <th>SkinThickness</th>\n",
       "      <th>Insulin</th>\n",
       "      <th>BMI</th>\n",
       "      <th>DiabetesPedigreeFunction</th>\n",
       "      <th>Age</th>\n",
       "      <th>Outcome</th>\n",
       "    </tr>\n",
       "  </thead>\n",
       "  <tbody>\n",
       "    <tr>\n",
       "      <th>0</th>\n",
       "      <td>6</td>\n",
       "      <td>148</td>\n",
       "      <td>72</td>\n",
       "      <td>35</td>\n",
       "      <td>0</td>\n",
       "      <td>33.6</td>\n",
       "      <td>0.627</td>\n",
       "      <td>50</td>\n",
       "      <td>1</td>\n",
       "    </tr>\n",
       "    <tr>\n",
       "      <th>1</th>\n",
       "      <td>1</td>\n",
       "      <td>85</td>\n",
       "      <td>66</td>\n",
       "      <td>29</td>\n",
       "      <td>0</td>\n",
       "      <td>26.6</td>\n",
       "      <td>0.351</td>\n",
       "      <td>31</td>\n",
       "      <td>0</td>\n",
       "    </tr>\n",
       "    <tr>\n",
       "      <th>2</th>\n",
       "      <td>8</td>\n",
       "      <td>183</td>\n",
       "      <td>64</td>\n",
       "      <td>0</td>\n",
       "      <td>0</td>\n",
       "      <td>23.3</td>\n",
       "      <td>0.672</td>\n",
       "      <td>32</td>\n",
       "      <td>1</td>\n",
       "    </tr>\n",
       "    <tr>\n",
       "      <th>3</th>\n",
       "      <td>1</td>\n",
       "      <td>89</td>\n",
       "      <td>66</td>\n",
       "      <td>23</td>\n",
       "      <td>94</td>\n",
       "      <td>28.1</td>\n",
       "      <td>0.167</td>\n",
       "      <td>21</td>\n",
       "      <td>0</td>\n",
       "    </tr>\n",
       "    <tr>\n",
       "      <th>4</th>\n",
       "      <td>0</td>\n",
       "      <td>137</td>\n",
       "      <td>40</td>\n",
       "      <td>35</td>\n",
       "      <td>168</td>\n",
       "      <td>43.1</td>\n",
       "      <td>2.288</td>\n",
       "      <td>33</td>\n",
       "      <td>1</td>\n",
       "    </tr>\n",
       "  </tbody>\n",
       "</table>\n",
       "</div>"
      ],
      "text/plain": [
       "   Pregnancies  Glucose  BloodPressure  SkinThickness  Insulin   BMI  \\\n",
       "0            6      148             72             35        0  33.6   \n",
       "1            1       85             66             29        0  26.6   \n",
       "2            8      183             64              0        0  23.3   \n",
       "3            1       89             66             23       94  28.1   \n",
       "4            0      137             40             35      168  43.1   \n",
       "\n",
       "   DiabetesPedigreeFunction  Age  Outcome  \n",
       "0                     0.627   50        1  \n",
       "1                     0.351   31        0  \n",
       "2                     0.672   32        1  \n",
       "3                     0.167   21        0  \n",
       "4                     2.288   33        1  "
      ]
     },
     "execution_count": 3,
     "metadata": {},
     "output_type": "execute_result"
    }
   ],
   "source": [
    "#load in dataset\n",
    "diabetes = pd.DataFrame(pd.read_csv(\"diabetes.csv\")) \n",
    "diabetes.head()"
   ]
  },
  {
   "cell_type": "code",
   "execution_count": 4,
   "id": "1824a9ed-b7f8-4d6e-9f45-6a9c6f8e1141",
   "metadata": {},
   "outputs": [],
   "source": [
    "#Split data set between parameters and output\n",
    "X = diabetes.iloc[:, [0, 1, 2, 3, 4, 5, 6, 7]]\n",
    "Y = diabetes.iloc[:, 8]"
   ]
  },
  {
   "cell_type": "code",
   "execution_count": 5,
   "id": "d25b0b77-2059-4e2a-b41f-f21756897cc0",
   "metadata": {},
   "outputs": [],
   "source": [
    "#split data set into X and Y training and testing sets\n",
    "from sklearn.model_selection import train_test_split\n",
    "\n",
    "np.random.seed(0)\n",
    "#80% data for training, 20% data for testing\n",
    "X_train, X_test, Y_train, Y_test = train_test_split(X, Y, test_size = 0.20, random_state = 0)"
   ]
  },
  {
   "cell_type": "code",
   "execution_count": 6,
   "id": "f9fc2e29-47bf-4512-bf95-e891389e2183",
   "metadata": {},
   "outputs": [
    {
     "data": {
      "text/plain": [
       "array([ 0.03644676, -0.75182191, -0.47230103,  0.14814855, -0.69965674,\n",
       "       -0.50667229, -0.07049698, -0.96569189])"
      ]
     },
     "execution_count": 6,
     "metadata": {},
     "output_type": "execute_result"
    }
   ],
   "source": [
    "import warnings\n",
    "warnings.filterwarnings('ignore')\n",
    "from sklearn.preprocessing import StandardScaler\n",
    "\n",
    "#Standardizing the parameters so they are all equally weighted during training\n",
    "scalerStand = StandardScaler()\n",
    "X_train = scalerStand.fit_transform(X_train)\n",
    "X_test = scalerStand.fit_transform(X_test)\n",
    "X_train[1]"
   ]
  },
  {
   "cell_type": "code",
   "execution_count": 7,
   "id": "798a359d-ee7f-44b6-a03b-40d49f05981c",
   "metadata": {},
   "outputs": [],
   "source": [
    "#######################Problem 1#######################"
   ]
  },
  {
   "cell_type": "code",
   "execution_count": 8,
   "id": "665f270a-f96a-4eb0-8c1e-76a94757f3fa",
   "metadata": {},
   "outputs": [
    {
     "data": {
      "text/plain": [
       "LogisticRegression(random_state=0)"
      ]
     },
     "execution_count": 8,
     "metadata": {},
     "output_type": "execute_result"
    }
   ],
   "source": [
    "from sklearn.linear_model import LogisticRegression\n",
    "\n",
    "#preforming logistic regression on the training set\n",
    "np.random.seed(0)\n",
    "classifier = LogisticRegression(random_state = 0)\n",
    "classifier.fit(X_train, Y_train)"
   ]
  },
  {
   "cell_type": "code",
   "execution_count": 9,
   "id": "a072ac98-523c-4c30-abad-69b79abb0f37",
   "metadata": {},
   "outputs": [
    {
     "data": {
      "text/plain": [
       "array([1, 0, 0, 1, 0, 0, 1, 1, 0], dtype=int64)"
      ]
     },
     "execution_count": 9,
     "metadata": {},
     "output_type": "execute_result"
    }
   ],
   "source": [
    "#using the Logistic regression model to predict the output of testing set\n",
    "Y_pred = classifier.predict(X_test)\n",
    "Y_pred[0:9]"
   ]
  },
  {
   "cell_type": "code",
   "execution_count": 10,
   "id": "04f73741-3011-46a2-8495-06c8e5a22b3e",
   "metadata": {},
   "outputs": [],
   "source": [
    "#Creating a confusion matrix that compares predicted values to actual values\n",
    "from sklearn.metrics import confusion_matrix\n",
    "cm = confusion_matrix(Y_test, Y_pred)"
   ]
  },
  {
   "cell_type": "code",
   "execution_count": 11,
   "id": "388c703b-964c-477a-9a3e-af9bfe403e07",
   "metadata": {},
   "outputs": [
    {
     "name": "stdout",
     "output_type": "stream",
     "text": [
      "Accuracy: 0.7987012987012987\n",
      "Precision: 0.6904761904761905\n",
      "Recall: 0.6170212765957447\n"
     ]
    }
   ],
   "source": [
    "#Printing the accuracy, precision, and recall\n",
    "from sklearn import metrics \n",
    "print(\"Accuracy:\",metrics.accuracy_score(Y_test, Y_pred)) \n",
    "print(\"Precision:\",metrics.precision_score(Y_test, Y_pred)) \n",
    "print(\"Recall:\",metrics.recall_score(Y_test, Y_pred))"
   ]
  },
  {
   "cell_type": "code",
   "execution_count": 12,
   "id": "d295f282-0061-496f-b830-366bf6d35adb",
   "metadata": {},
   "outputs": [
    {
     "data": {
      "image/png": "[encoded data removed]",
      "text/plain": [
       "<Figure size 432x288 with 2 Axes>"
      ]
     },
     "metadata": {
      "needs_background": "light"
     },
     "output_type": "display_data"
    }
   ],
   "source": [
    "#Plotting Confusion Matrix of predicted vs actual values\n",
    "import seaborn as sns \n",
    "class_names=[0,1] # name  of classes \n",
    "fig, ax = plt.subplots() \n",
    "tick_marks = np.arange(len(class_names)) \n",
    "plt.xticks(tick_marks, class_names) \n",
    "plt.yticks(tick_marks, class_names) \n",
    "# create heatmap \n",
    "sns.heatmap(pd.DataFrame(cm), annot=True, cmap=\"YlGnBu\" ,fmt='g') \n",
    "ax.xaxis.set_label_position(\"top\") \n",
    "plt.tight_layout() \n",
    "plt.title('Confusion matrix using Logistic Regression', y=1.1) \n",
    "plt.ylabel('Actual Diabetes Status') \n",
    "plt.xlabel('Predicted Diabetes Status') ;"
   ]
  },
  {
   "cell_type": "code",
   "execution_count": 13,
   "id": "1c3184fa-5c7e-47d1-9ccf-43bcc31042f4",
   "metadata": {},
   "outputs": [],
   "source": [
    "####################Problem 2##############################"
   ]
  },
  {
   "cell_type": "code",
   "execution_count": 14,
   "id": "3de485fa-1758-4f53-898f-2682fde910d7",
   "metadata": {},
   "outputs": [
    {
     "data": {
      "text/plain": [
       "GaussianNB()"
      ]
     },
     "execution_count": 14,
     "metadata": {},
     "output_type": "execute_result"
    }
   ],
   "source": [
    "#Performing Gaussian Naive Bayes Theorm on the training set\n",
    "from sklearn.naive_bayes import GaussianNB\n",
    "classifier0 = GaussianNB()\n",
    "classifier0.fit(X_train, Y_train)"
   ]
  },
  {
   "cell_type": "code",
   "execution_count": 15,
   "id": "f4ae766b-6245-419b-9275-be121c9e7004",
   "metadata": {},
   "outputs": [
    {
     "data": {
      "text/plain": [
       "array([1, 0, 0, 1, 0, 0, 1, 1, 1, 1, 1, 1, 0, 1, 0, 0, 1, 0, 0, 0, 1, 0,\n",
       "       0, 0, 0, 0, 0, 1, 0, 0, 1, 0, 0, 0, 0, 1, 1, 0, 0, 1, 0, 0, 0, 1,\n",
       "       1, 0, 0, 0, 0, 0, 0, 0, 1, 1, 0, 0, 0, 0, 0, 0, 1, 1, 0, 1, 1, 1,\n",
       "       1, 0, 0, 0, 0, 0, 0, 1, 1, 0, 1, 1, 0, 0, 0, 1, 0, 0, 0, 0, 0, 0,\n",
       "       1, 0, 0, 0, 0, 0, 1, 0, 0, 1, 1, 0, 1, 0, 0, 0, 1, 0, 0, 0, 0, 1,\n",
       "       0, 1, 1, 1, 1, 1, 0, 1, 0, 1, 0, 1, 0, 1, 0, 0, 0, 0, 0, 0, 0, 0,\n",
       "       0, 1, 0, 1, 0, 0, 1, 0, 0, 1, 0, 0, 0, 0, 0, 0, 0, 0, 0, 0, 0, 0],\n",
       "      dtype=int64)"
      ]
     },
     "execution_count": 15,
     "metadata": {},
     "output_type": "execute_result"
    }
   ],
   "source": [
    "#Using the Gaussian Naive Bayes model to predict output of testing set\n",
    "Y2_pred = classifier0.predict(X_test)\n",
    "Y2_pred"
   ]
  },
  {
   "cell_type": "code",
   "execution_count": 16,
   "id": "bd6d2278-fb4f-46d2-86d4-2574502b09d5",
   "metadata": {},
   "outputs": [
    {
     "data": {
      "text/plain": [
       "array([[87, 20],\n",
       "       [16, 31]], dtype=int64)"
      ]
     },
     "execution_count": 16,
     "metadata": {},
     "output_type": "execute_result"
    }
   ],
   "source": [
    "#Creating a confusion matrix that compares predicted values to actual values\n",
    "from sklearn.metrics import confusion_matrix, accuracy_score\n",
    "cm1 = confusion_matrix(Y_test, Y2_pred)\n",
    "cm1"
   ]
  },
  {
   "cell_type": "code",
   "execution_count": 17,
   "id": "0483ccc8-7bf8-4409-b06a-611efe0b5c48",
   "metadata": {},
   "outputs": [
    {
     "name": "stdout",
     "output_type": "stream",
     "text": [
      "Accuracy: 0.7662337662337663\n",
      "Precision: 0.6078431372549019\n",
      "Recall: 0.6595744680851063\n"
     ]
    }
   ],
   "source": [
    "print(\"Accuracy:\",metrics.accuracy_score(Y_test, Y2_pred)) \n",
    "print(\"Precision:\",metrics.precision_score(Y_test, Y2_pred)) \n",
    "print(\"Recall:\",metrics.recall_score(Y_test, Y2_pred))"
   ]
  },
  {
   "cell_type": "code",
   "execution_count": 18,
   "id": "164446d5-e32e-4236-bcb3-2b79174bec44",
   "metadata": {},
   "outputs": [
    {
     "data": {
      "image/png": "[encoded data removed]",
      "text/plain": [
       "<Figure size 432x288 with 2 Axes>"
      ]
     },
     "metadata": {
      "needs_background": "light"
     },
     "output_type": "display_data"
    }
   ],
   "source": [
    "#Plotting Confusion Matrix of predicted vs actual values\n",
    "class_names=[0,1] # name  of classes \n",
    "fig, ax = plt.subplots() \n",
    "tick_marks = np.arange(len(class_names)) \n",
    "plt.xticks(tick_marks, class_names) \n",
    "plt.yticks(tick_marks, class_names) \n",
    "# create heatmap \n",
    "sns.heatmap(pd.DataFrame(cm1), annot=True, cmap=\"YlGnBu\" ,fmt='g') \n",
    "ax.xaxis.set_label_position(\"top\") \n",
    "plt.tight_layout() \n",
    "plt.title('Confusion matrix using Gaussian Naive Bayes Theorem', y=1.1) \n",
    "plt.ylabel('Actual Diabetes Status') \n",
    "plt.xlabel('Predicted Diabetes Status') ;"
   ]
  },
  {
   "cell_type": "code",
   "execution_count": 19,
   "id": "ebb041bd-c727-4ae0-ace8-49a4f3fa9916",
   "metadata": {},
   "outputs": [],
   "source": [
    "#######################Problem 3######################"
   ]
  },
  {
   "cell_type": "code",
   "execution_count": 20,
   "id": "a651cd57-fd62-475c-8625-2de191158949",
   "metadata": {},
   "outputs": [],
   "source": [
    "#Splitting the dataset into parameters and output to preform KFold Cross-Validation\n",
    "X = diabetes.iloc[:, [0, 1, 2, 3, 4, 5, 6, 7]]\n",
    "Y = diabetes.iloc[:, 8]\n",
    "\n",
    "#Standardizing the parameters so they are weighted equally\n",
    "X = scalerStand.fit_transform(X)\n",
    "\n",
    "#Creating arrays to store accuracy, precision, recall, predicted values, and actual values\n",
    "acc_score = []\n",
    "precision_score = []\n",
    "recall_score = []\n",
    "predicted_targets = np.array([])\n",
    "actual_targets = np.array([])"
   ]
  },
  {
   "cell_type": "code",
   "execution_count": 21,
   "id": "2f73a0e2-8243-4ef0-9503-d5892c3c7ed5",
   "metadata": {},
   "outputs": [
    {
     "name": "stdout",
     "output_type": "stream",
     "text": [
      "avg accuracy for k=5 : 0.7734063322298617\n",
      "avg precision for k=5 : 0.5683141996715554\n",
      "avg recall for k=5 : 0.7307994363835186\n"
     ]
    }
   ],
   "source": [
    "#performing K-Fold Cross-Validation with k=5 with a Logistic Regression Approach\n",
    "from sklearn.model_selection import KFold\n",
    "np.random.seed(0)\n",
    "kf5 = KFold(n_splits = 5, random_state = 0, shuffle = True)\n",
    "\n",
    "#Performing logistic regression on the training set for each iteration \n",
    "for train_index, test_index in kf5.split(X):\n",
    "    X_train, X_test = X[train_index, :], X[test_index,:]\n",
    "    y_train, y_test = Y[train_index], Y[test_index]\n",
    "    \n",
    "    classifier.fit(X_train, y_train)\n",
    "    Y_pred = classifier.predict(X_test)\n",
    "    \n",
    "    #storing predicted values and actual values over each iteration\n",
    "    predicted_targets = np.append(predicted_targets, Y_pred)\n",
    "    actual_targets = np.append(actual_targets, y_test)\n",
    "    \n",
    "    #Storing accuracy, precision, and recall for each iteration\n",
    "    acc = metrics.accuracy_score(Y_pred, y_test)\n",
    "    acc_score.append(acc)\n",
    "        \n",
    "    pres = metrics.precision_score(Y_pred, y_test)\n",
    "    precision_score.append(pres)\n",
    "    \n",
    "    recall = metrics.recall_score(Y_pred, y_test)\n",
    "    recall_score.append(recall)\n",
    "    \n",
    "#finding the average accuracy, precision, and recall\n",
    "avg_acc_score = sum(acc_score)/5   \n",
    "avg_pres_score = sum(precision_score)/5\n",
    "avg_recall_score = sum(recall_score)/5\n",
    "\n",
    "print('avg accuracy for k=5 : {}'.format(avg_acc_score))\n",
    "print('avg precision for k=5 : {}'.format(avg_pres_score))\n",
    "print('avg recall for k=5 : {}'.format(avg_recall_score))"
   ]
  },
  {
   "cell_type": "code",
   "execution_count": 22,
   "id": "fc978abe-e108-41dd-8408-b92735c3ccee",
   "metadata": {},
   "outputs": [
    {
     "data": {
      "image/png": "[encoded data removed]",
      "text/plain": [
       "<Figure size 432x288 with 2 Axes>"
      ]
     },
     "metadata": {
      "needs_background": "light"
     },
     "output_type": "display_data"
    }
   ],
   "source": [
    "#Plotting Confusion Matrix of predicted vs actual values\n",
    "cm2 = confusion_matrix(actual_targets, predicted_targets) \n",
    "class_names=[0,1] # name  of classes \n",
    "fig, ax = plt.subplots() \n",
    "tick_marks = np.arange(len(class_names)) \n",
    "plt.xticks(tick_marks, class_names) \n",
    "plt.yticks(tick_marks, class_names) \n",
    "# create heatmap \n",
    "sns.heatmap(pd.DataFrame(cm2), annot=True, cmap=\"YlGnBu\" ,fmt='g') \n",
    "ax.xaxis.set_label_position(\"top\") \n",
    "plt.tight_layout() \n",
    "plt.title('Confusion matrix for Logistic Regression with k=5 Cross-Validation', y=1.1) \n",
    "plt.ylabel('Actual Diabetes Status') \n",
    "plt.xlabel('Predicted Diabetes Status') ;"
   ]
  },
  {
   "cell_type": "code",
   "execution_count": 23,
   "id": "f6e763c4-7ec3-4638-9c80-54b0f1b064ca",
   "metadata": {},
   "outputs": [
    {
     "name": "stdout",
     "output_type": "stream",
     "text": [
      "avg accuracy for k=10 : 0.7760423786739576\n",
      "avg precision for k=10 : 0.5684261777890447\n",
      "avg recall for k=10 : 0.7310060312662615\n"
     ]
    }
   ],
   "source": [
    "#Creating arrays to store accuracy, precision, recall, predicted values, and actual values\n",
    "acc_score1 = []\n",
    "precision_score1 = []\n",
    "recall_score1 = []\n",
    "predicted_targets1 = np.array([])\n",
    "actual_targets1 = np.array([])\n",
    "\n",
    "#performing K-Fold Cross-Validation with k=10 with a Logistic Regression Approach\n",
    "np.random.seed(0)\n",
    "kf10 = KFold(n_splits = 10, random_state = 0, shuffle = True)\n",
    "\n",
    "#Performing logistic regression on the training set for each iteration \n",
    "for train_index, test_index in kf10.split(X):\n",
    "    X_train, X_test = X[train_index, :], X[test_index,:]\n",
    "    y_train, y_test = Y[train_index], Y[test_index]\n",
    "    \n",
    "    classifier.fit(X_train, y_train)\n",
    "    Y_pred = classifier.predict(X_test)\n",
    "    \n",
    "    #storing predicted values and actual values over each iteration\n",
    "    predicted_targets1 = np.append(predicted_targets1, Y_pred)\n",
    "    actual_targets1 = np.append(actual_targets1, y_test)\n",
    "\n",
    "    #Storing accuracy, precision, and recall for each iteration\n",
    "    acc = metrics.accuracy_score(Y_pred, y_test)\n",
    "    acc_score1.append(acc)\n",
    "    \n",
    "    pres = metrics.precision_score(Y_pred, y_test)\n",
    "    precision_score1.append(pres)\n",
    "    \n",
    "    recall = metrics.recall_score(Y_pred, y_test)\n",
    "    recall_score1.append(recall)\n",
    "     \n",
    "#finding the average accuracy, precision, and recall\n",
    "avg_acc_score1 = sum(acc_score1)/10    \n",
    "avg_pres_score1 = sum(precision_score1)/10\n",
    "avg_recall_score1 = sum(recall_score1)/10\n",
    "    \n",
    "print('avg accuracy for k=10 : {}'.format(avg_acc_score1))\n",
    "print('avg precision for k=10 : {}'.format(avg_pres_score1))\n",
    "print('avg recall for k=10 : {}'.format(avg_recall_score1))"
   ]
  },
  {
   "cell_type": "code",
   "execution_count": 24,
   "id": "5db2b2b2-68f4-4608-b041-fcf78e4bc540",
   "metadata": {},
   "outputs": [
    {
     "data": {
      "image/png": "[encoded data removed]",
      "text/plain": [
       "<Figure size 432x288 with 2 Axes>"
      ]
     },
     "metadata": {
      "needs_background": "light"
     },
     "output_type": "display_data"
    }
   ],
   "source": [
    "#Plotting Confusion Matrix of predicted vs actual values\n",
    "cm3 = confusion_matrix(actual_targets1, predicted_targets1) \n",
    "class_names=[0,1] # name  of classes \n",
    "fig, ax = plt.subplots() \n",
    "tick_marks = np.arange(len(class_names)) \n",
    "plt.xticks(tick_marks, class_names) \n",
    "plt.yticks(tick_marks, class_names) \n",
    "# create heatmap \n",
    "sns.heatmap(pd.DataFrame(cm3), annot=True, cmap=\"YlGnBu\" ,fmt='g') \n",
    "ax.xaxis.set_label_position(\"top\") \n",
    "plt.tight_layout() \n",
    "plt.title('Confusion matrix for Logistic Regression with k=10 Cross-Validation', y=1.1) \n",
    "plt.ylabel('Actual Diabetes Status') \n",
    "plt.xlabel('Predicted Diabetes Status') ;"
   ]
  },
  {
   "cell_type": "code",
   "execution_count": 25,
   "id": "a26065d0-6864-47f6-b94e-f61482f99bc3",
   "metadata": {},
   "outputs": [],
   "source": [
    "####################Problem 4###########################"
   ]
  },
  {
   "cell_type": "code",
   "execution_count": 26,
   "id": "85abbaea-f59b-4045-a862-4b44b73f02eb",
   "metadata": {},
   "outputs": [
    {
     "name": "stdout",
     "output_type": "stream",
     "text": [
      "avg accuracy for k=5 : 0.7487140310669722\n",
      "avg precision for k=5 : 0.5958395809212899\n",
      "avg recall for k=5 : 0.6528155200452331\n"
     ]
    }
   ],
   "source": [
    "#Creating arrays to store accuracy, precision, recall, predicted values, and actual values\n",
    "acc_score2 = []\n",
    "precision_score2 = []\n",
    "recall_score2 = []\n",
    "predicted_targets2 = np.array([])\n",
    "actual_targets2 = np.array([])\n",
    "\n",
    "#performing K-Fold Cross-Validation with k=5\n",
    "#Performing Gaussian Naive Bayes Theorm on the training set for each iteration\n",
    "for train_index, test_index in kf5.split(X):\n",
    "    X_train, X_test = X[train_index, :], X[test_index,:]\n",
    "    y_train, y_test = Y[train_index], Y[test_index]\n",
    "    \n",
    "    classifier0.fit(X_train, y_train)\n",
    "    Y_pred = classifier0.predict(X_test)\n",
    "\n",
    "    #storing predicted values and actual values over each iteration\n",
    "    predicted_targets2 = np.append(predicted_targets2, Y_pred)\n",
    "    actual_targets2 = np.append(actual_targets2, y_test)\n",
    "    \n",
    "    #Storing accuracy, precision, and recall for each iteration\n",
    "    acc = metrics.accuracy_score(Y_pred, y_test)\n",
    "    acc_score2.append(acc)\n",
    "    \n",
    "    pres = metrics.precision_score(Y_pred, y_test)\n",
    "    precision_score2.append(pres)\n",
    "    \n",
    "    recall = metrics.recall_score(Y_pred, y_test)\n",
    "    recall_score2.append(recall)\n",
    "    \n",
    "#finding the average accuracy, precision, and recall\n",
    "avg_acc_score2 = sum(acc_score2)/5    \n",
    "avg_pres_score2 = sum(precision_score2)/5\n",
    "avg_recall_score2 = sum(recall_score2)/5\n",
    "    \n",
    "print('avg accuracy for k=5 : {}'.format(avg_acc_score2))\n",
    "print('avg precision for k=5 : {}'.format(avg_pres_score2))\n",
    "print('avg recall for k=5 : {}'.format(avg_recall_score2))"
   ]
  },
  {
   "cell_type": "code",
   "execution_count": 27,
   "id": "504c4173-6806-4b2f-a99e-01faa7440086",
   "metadata": {},
   "outputs": [
    {
     "data": {
      "image/png": "[encoded data removed]",
      "text/plain": [
       "<Figure size 432x288 with 2 Axes>"
      ]
     },
     "metadata": {
      "needs_background": "light"
     },
     "output_type": "display_data"
    }
   ],
   "source": [
    "#Plotting Confusion Matrix of predicted vs actual values\n",
    "cm4 = confusion_matrix(actual_targets2, predicted_targets2) \n",
    "class_names=[0,1] # name  of classes \n",
    "fig, ax = plt.subplots() \n",
    "tick_marks = np.arange(len(class_names)) \n",
    "plt.xticks(tick_marks, class_names) \n",
    "plt.yticks(tick_marks, class_names) \n",
    "# create heatmap \n",
    "sns.heatmap(pd.DataFrame(cm4), annot=True, cmap=\"YlGnBu\" ,fmt='g') \n",
    "ax.xaxis.set_label_position(\"top\") \n",
    "plt.tight_layout() \n",
    "plt.title('Confusion matrix for Gaussian Naive Bayes Theorem with k=5 Cross-Validation', y=1.1) \n",
    "plt.ylabel('Actual Diabetes Status') \n",
    "plt.xlabel('Predicted Diabetes Status') ;"
   ]
  },
  {
   "cell_type": "code",
   "execution_count": 28,
   "id": "b844baf4-488c-4d3f-8f7d-d26ec65d639f",
   "metadata": {},
   "outputs": [
    {
     "name": "stdout",
     "output_type": "stream",
     "text": [
      "avg accuracy for k=5 : 0.748632946001367\n",
      "avg precision for k=5 : 0.5858645366945894\n",
      "avg recall for k=5 : 0.6558350289058493\n"
     ]
    }
   ],
   "source": [
    "#Creating arrays to store accuracy, precision, recall, predicted values, and actual values\n",
    "acc_score3 = []\n",
    "precision_score3 = []\n",
    "recall_score3 = []\n",
    "predicted_targets3 = np.array([])\n",
    "actual_targets3 = np.array([])\n",
    "\n",
    "#performing K-Fold Cross-Validation with k=10\n",
    "#Performing Gaussian Naive Bayes Theorm on the training set for each iteration\n",
    "for train_index, test_index in kf10.split(X):\n",
    "    X_train, X_test = X[train_index, :], X[test_index,:]\n",
    "    y_train, y_test = Y[train_index], Y[test_index]\n",
    "    \n",
    "    classifier0.fit(X_train, y_train)\n",
    "    Y_pred = classifier0.predict(X_test)\n",
    "\n",
    "    #storing predicted values and actual values over each iteration\n",
    "    predicted_targets3 = np.append(predicted_targets3, Y_pred)\n",
    "    actual_targets3 = np.append(actual_targets3, y_test)\n",
    "    \n",
    "    #Storing accuracy, precision, and recall for each iteration\n",
    "    acc = metrics.accuracy_score(Y_pred, y_test)\n",
    "    acc_score3.append(acc)\n",
    "    \n",
    "    pres = metrics.precision_score(Y_pred, y_test)\n",
    "    precision_score3.append(pres)\n",
    "    \n",
    "    recall = metrics.recall_score(Y_pred, y_test)\n",
    "    recall_score3.append(recall)\n",
    "    \n",
    "#finding the average accuracy, precision, and recall \n",
    "avg_acc_score3 = sum(acc_score3)/10    \n",
    "avg_pres_score3 = sum(precision_score3)/10\n",
    "avg_recall_score3 = sum(recall_score3)/10\n",
    "    \n",
    "print('avg accuracy for k=5 : {}'.format(avg_acc_score3))\n",
    "print('avg precision for k=5 : {}'.format(avg_pres_score3))\n",
    "print('avg recall for k=5 : {}'.format(avg_recall_score3))"
   ]
  },
  {
   "cell_type": "code",
   "execution_count": 29,
   "id": "d2aba690-338a-439e-9a11-71906f706767",
   "metadata": {},
   "outputs": [
    {
     "data": {
      "image/png": "[encoded data removed]",
      "text/plain": [
       "<Figure size 432x288 with 2 Axes>"
      ]
     },
     "metadata": {
      "needs_background": "light"
     },
     "output_type": "display_data"
    }
   ],
   "source": [
    "#Plotting Confusion Matrix of predicted vs actual values\n",
    "cm5 = confusion_matrix(actual_targets3, predicted_targets3) \n",
    "class_names=[0,1] # name  of classes \n",
    "fig, ax = plt.subplots() \n",
    "tick_marks = np.arange(len(class_names)) \n",
    "plt.xticks(tick_marks, class_names) \n",
    "plt.yticks(tick_marks, class_names) \n",
    "# create heatmap \n",
    "sns.heatmap(pd.DataFrame(cm5), annot=True, cmap=\"YlGnBu\" ,fmt='g') \n",
    "ax.xaxis.set_label_position(\"top\") \n",
    "plt.tight_layout() \n",
    "plt.title('Confusion matrix for Gaussian Naive Bayes Theorem with k=10 Cross-Validation', y=1.1) \n",
    "plt.ylabel('Actual Diabetes Status') \n",
    "plt.xlabel('Predicted Diabetes Status') ;"
   ]
  }
 ],
 "metadata": {
  "kernelspec": {
   "display_name": "Python 3",
   "language": "python",
   "name": "python3"
  },
  "language_info": {
   "codemirror_mode": {
    "name": "ipython",
    "version": 3
   },
   "file_extension": ".py",
   "mimetype": "text/x-python",
   "name": "python",
   "nbconvert_exporter": "python",
   "pygments_lexer": "ipython3",
   "version": "3.8.8"
  }
 },
 "nbformat": 4,
 "nbformat_minor": 5
}
